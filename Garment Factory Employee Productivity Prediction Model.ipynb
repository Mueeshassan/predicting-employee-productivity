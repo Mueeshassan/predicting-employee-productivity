{
 "cells": [
  {
   "cell_type": "markdown",
   "id": "0a697e3b",
   "metadata": {},
   "source": [
    "## Introduction\n",
    "\n",
    "In the fast-paced environment of a garment factory, optimizing worker productivity is crucial for meeting production targets and maintaining competitiveness. However, accurately predicting worker productivity poses a significant challenge, as it is influenced by a multitude of factors.\n",
    "\n",
    "To address this challenge, our project focuses on developing a machine learning model to predict worker productivity in a garment factory. By leveraging historical data on worker performance, along with various contextual factors such as time of day, overtime, and incentives, our goal is to create a predictive model that can accurately forecast productivity levels for teams of workers.\n",
    "\n",
    "Through the implementation of this predictive model, managers will gain valuable insights into factors that impact worker productivity and can proactively adjust staffing levels, schedules, and resource allocation to optimize efficiency and meet production goals.\n",
    "\n",
    "The following is the dataset's official column information:\n",
    "\n",
    "date - date in MM-DD-YYYY\n",
    "\n",
    "quarter - a portion of the 4 quarters in a year which consist of 3 months each\n",
    "\n",
    "department - associated department with the instance\n",
    "\n",
    "day - day of the week\n",
    "\n",
    "team - associated team number with instance\n",
    "\n",
    "targeted_productivity - targeted productivity set by the authority for each team for each day\n",
    "\n",
    "smv - standard minute value. The allocated time for a task\n",
    "\n",
    "wip - work in progress. Includes the number of unfinished items for products\n",
    "\n",
    "overtime - represents the number of overtime for each team in minutes\n",
    "\n",
    "incentives - represents the amount of financial incentives (in BDT) that enables or motivates a course of action\n",
    "\n",
    "idle_time - the duration of time when the production was interupted for several reasons\n",
    "\n",
    "idle_men - the number of men who were idle due to interruption in production\n",
    "\n",
    "no_of_style_change - number of changes in style of a particular product\n",
    "\n",
    "no_of_workers - number of workers on each team\n",
    "\n",
    "actual_productivity - the actual in productivity that was delivered by the workers"
   ]
  },
  {
   "cell_type": "markdown",
   "id": "f0eedb20",
   "metadata": {},
   "source": [
    "## Importing the libraries"
   ]
  },
  {
   "cell_type": "code",
   "execution_count": 1,
   "id": "54489a97",
   "metadata": {},
   "outputs": [],
   "source": [
    "import pandas as pd\n",
    "import numpy as np\n",
    "import matplotlib.pyplot as plt\n",
    "\n",
    "garment = pd.read_csv('garments_worker_productivity.csv')"
   ]
  },
  {
   "cell_type": "markdown",
   "id": "7b2c615b",
   "metadata": {},
   "source": [
    "## Inspecting the data\n",
    "We will inspect the first and last 10 records of the data to have a sense of what each column contains "
   ]
  },
  {
   "cell_type": "code",
   "execution_count": 2,
   "id": "65219067",
   "metadata": {
    "scrolled": false
   },
   "outputs": [
    {
     "data": {
      "text/html": [
       "<div>\n",
       "<style scoped>\n",
       "    .dataframe tbody tr th:only-of-type {\n",
       "        vertical-align: middle;\n",
       "    }\n",
       "\n",
       "    .dataframe tbody tr th {\n",
       "        vertical-align: top;\n",
       "    }\n",
       "\n",
       "    .dataframe thead th {\n",
       "        text-align: right;\n",
       "    }\n",
       "</style>\n",
       "<table border=\"1\" class=\"dataframe\">\n",
       "  <thead>\n",
       "    <tr style=\"text-align: right;\">\n",
       "      <th></th>\n",
       "      <th>date</th>\n",
       "      <th>quarter</th>\n",
       "      <th>department</th>\n",
       "      <th>day</th>\n",
       "      <th>team</th>\n",
       "      <th>targeted_productivity</th>\n",
       "      <th>smv</th>\n",
       "      <th>wip</th>\n",
       "      <th>over_time</th>\n",
       "      <th>incentive</th>\n",
       "      <th>idle_time</th>\n",
       "      <th>idle_men</th>\n",
       "      <th>no_of_style_change</th>\n",
       "      <th>no_of_workers</th>\n",
       "      <th>actual_productivity</th>\n",
       "    </tr>\n",
       "  </thead>\n",
       "  <tbody>\n",
       "    <tr>\n",
       "      <th>0</th>\n",
       "      <td>1/1/2015</td>\n",
       "      <td>Quarter1</td>\n",
       "      <td>sweing</td>\n",
       "      <td>Thursday</td>\n",
       "      <td>8</td>\n",
       "      <td>0.80</td>\n",
       "      <td>26.16</td>\n",
       "      <td>1108.0</td>\n",
       "      <td>7080</td>\n",
       "      <td>98</td>\n",
       "      <td>0.0</td>\n",
       "      <td>0</td>\n",
       "      <td>0</td>\n",
       "      <td>59.0</td>\n",
       "      <td>0.940725</td>\n",
       "    </tr>\n",
       "    <tr>\n",
       "      <th>1</th>\n",
       "      <td>1/1/2015</td>\n",
       "      <td>Quarter1</td>\n",
       "      <td>finishing</td>\n",
       "      <td>Thursday</td>\n",
       "      <td>1</td>\n",
       "      <td>0.75</td>\n",
       "      <td>3.94</td>\n",
       "      <td>NaN</td>\n",
       "      <td>960</td>\n",
       "      <td>0</td>\n",
       "      <td>0.0</td>\n",
       "      <td>0</td>\n",
       "      <td>0</td>\n",
       "      <td>8.0</td>\n",
       "      <td>0.886500</td>\n",
       "    </tr>\n",
       "    <tr>\n",
       "      <th>2</th>\n",
       "      <td>1/1/2015</td>\n",
       "      <td>Quarter1</td>\n",
       "      <td>sweing</td>\n",
       "      <td>Thursday</td>\n",
       "      <td>11</td>\n",
       "      <td>0.80</td>\n",
       "      <td>11.41</td>\n",
       "      <td>968.0</td>\n",
       "      <td>3660</td>\n",
       "      <td>50</td>\n",
       "      <td>0.0</td>\n",
       "      <td>0</td>\n",
       "      <td>0</td>\n",
       "      <td>30.5</td>\n",
       "      <td>0.800570</td>\n",
       "    </tr>\n",
       "    <tr>\n",
       "      <th>3</th>\n",
       "      <td>1/1/2015</td>\n",
       "      <td>Quarter1</td>\n",
       "      <td>sweing</td>\n",
       "      <td>Thursday</td>\n",
       "      <td>12</td>\n",
       "      <td>0.80</td>\n",
       "      <td>11.41</td>\n",
       "      <td>968.0</td>\n",
       "      <td>3660</td>\n",
       "      <td>50</td>\n",
       "      <td>0.0</td>\n",
       "      <td>0</td>\n",
       "      <td>0</td>\n",
       "      <td>30.5</td>\n",
       "      <td>0.800570</td>\n",
       "    </tr>\n",
       "    <tr>\n",
       "      <th>4</th>\n",
       "      <td>1/1/2015</td>\n",
       "      <td>Quarter1</td>\n",
       "      <td>sweing</td>\n",
       "      <td>Thursday</td>\n",
       "      <td>6</td>\n",
       "      <td>0.80</td>\n",
       "      <td>25.90</td>\n",
       "      <td>1170.0</td>\n",
       "      <td>1920</td>\n",
       "      <td>50</td>\n",
       "      <td>0.0</td>\n",
       "      <td>0</td>\n",
       "      <td>0</td>\n",
       "      <td>56.0</td>\n",
       "      <td>0.800382</td>\n",
       "    </tr>\n",
       "    <tr>\n",
       "      <th>5</th>\n",
       "      <td>1/1/2015</td>\n",
       "      <td>Quarter1</td>\n",
       "      <td>sweing</td>\n",
       "      <td>Thursday</td>\n",
       "      <td>7</td>\n",
       "      <td>0.80</td>\n",
       "      <td>25.90</td>\n",
       "      <td>984.0</td>\n",
       "      <td>6720</td>\n",
       "      <td>38</td>\n",
       "      <td>0.0</td>\n",
       "      <td>0</td>\n",
       "      <td>0</td>\n",
       "      <td>56.0</td>\n",
       "      <td>0.800125</td>\n",
       "    </tr>\n",
       "    <tr>\n",
       "      <th>6</th>\n",
       "      <td>1/1/2015</td>\n",
       "      <td>Quarter1</td>\n",
       "      <td>finishing</td>\n",
       "      <td>Thursday</td>\n",
       "      <td>2</td>\n",
       "      <td>0.75</td>\n",
       "      <td>3.94</td>\n",
       "      <td>NaN</td>\n",
       "      <td>960</td>\n",
       "      <td>0</td>\n",
       "      <td>0.0</td>\n",
       "      <td>0</td>\n",
       "      <td>0</td>\n",
       "      <td>8.0</td>\n",
       "      <td>0.755167</td>\n",
       "    </tr>\n",
       "    <tr>\n",
       "      <th>7</th>\n",
       "      <td>1/1/2015</td>\n",
       "      <td>Quarter1</td>\n",
       "      <td>sweing</td>\n",
       "      <td>Thursday</td>\n",
       "      <td>3</td>\n",
       "      <td>0.75</td>\n",
       "      <td>28.08</td>\n",
       "      <td>795.0</td>\n",
       "      <td>6900</td>\n",
       "      <td>45</td>\n",
       "      <td>0.0</td>\n",
       "      <td>0</td>\n",
       "      <td>0</td>\n",
       "      <td>57.5</td>\n",
       "      <td>0.753683</td>\n",
       "    </tr>\n",
       "    <tr>\n",
       "      <th>8</th>\n",
       "      <td>1/1/2015</td>\n",
       "      <td>Quarter1</td>\n",
       "      <td>sweing</td>\n",
       "      <td>Thursday</td>\n",
       "      <td>2</td>\n",
       "      <td>0.75</td>\n",
       "      <td>19.87</td>\n",
       "      <td>733.0</td>\n",
       "      <td>6000</td>\n",
       "      <td>34</td>\n",
       "      <td>0.0</td>\n",
       "      <td>0</td>\n",
       "      <td>0</td>\n",
       "      <td>55.0</td>\n",
       "      <td>0.753098</td>\n",
       "    </tr>\n",
       "    <tr>\n",
       "      <th>9</th>\n",
       "      <td>1/1/2015</td>\n",
       "      <td>Quarter1</td>\n",
       "      <td>sweing</td>\n",
       "      <td>Thursday</td>\n",
       "      <td>1</td>\n",
       "      <td>0.75</td>\n",
       "      <td>28.08</td>\n",
       "      <td>681.0</td>\n",
       "      <td>6900</td>\n",
       "      <td>45</td>\n",
       "      <td>0.0</td>\n",
       "      <td>0</td>\n",
       "      <td>0</td>\n",
       "      <td>57.5</td>\n",
       "      <td>0.750428</td>\n",
       "    </tr>\n",
       "    <tr>\n",
       "      <th>1187</th>\n",
       "      <td>3/11/2015</td>\n",
       "      <td>Quarter2</td>\n",
       "      <td>sweing</td>\n",
       "      <td>Wednesday</td>\n",
       "      <td>4</td>\n",
       "      <td>0.75</td>\n",
       "      <td>26.82</td>\n",
       "      <td>1054.0</td>\n",
       "      <td>7080</td>\n",
       "      <td>45</td>\n",
       "      <td>0.0</td>\n",
       "      <td>0</td>\n",
       "      <td>0</td>\n",
       "      <td>59.0</td>\n",
       "      <td>0.750051</td>\n",
       "    </tr>\n",
       "    <tr>\n",
       "      <th>1188</th>\n",
       "      <td>3/11/2015</td>\n",
       "      <td>Quarter2</td>\n",
       "      <td>sweing</td>\n",
       "      <td>Wednesday</td>\n",
       "      <td>5</td>\n",
       "      <td>0.70</td>\n",
       "      <td>26.82</td>\n",
       "      <td>992.0</td>\n",
       "      <td>6960</td>\n",
       "      <td>30</td>\n",
       "      <td>0.0</td>\n",
       "      <td>0</td>\n",
       "      <td>1</td>\n",
       "      <td>58.0</td>\n",
       "      <td>0.700557</td>\n",
       "    </tr>\n",
       "    <tr>\n",
       "      <th>1189</th>\n",
       "      <td>3/11/2015</td>\n",
       "      <td>Quarter2</td>\n",
       "      <td>sweing</td>\n",
       "      <td>Wednesday</td>\n",
       "      <td>8</td>\n",
       "      <td>0.70</td>\n",
       "      <td>30.48</td>\n",
       "      <td>914.0</td>\n",
       "      <td>6840</td>\n",
       "      <td>30</td>\n",
       "      <td>0.0</td>\n",
       "      <td>0</td>\n",
       "      <td>1</td>\n",
       "      <td>57.0</td>\n",
       "      <td>0.700505</td>\n",
       "    </tr>\n",
       "    <tr>\n",
       "      <th>1190</th>\n",
       "      <td>3/11/2015</td>\n",
       "      <td>Quarter2</td>\n",
       "      <td>sweing</td>\n",
       "      <td>Wednesday</td>\n",
       "      <td>6</td>\n",
       "      <td>0.70</td>\n",
       "      <td>23.41</td>\n",
       "      <td>1128.0</td>\n",
       "      <td>4560</td>\n",
       "      <td>40</td>\n",
       "      <td>0.0</td>\n",
       "      <td>0</td>\n",
       "      <td>1</td>\n",
       "      <td>38.0</td>\n",
       "      <td>0.700246</td>\n",
       "    </tr>\n",
       "    <tr>\n",
       "      <th>1191</th>\n",
       "      <td>3/11/2015</td>\n",
       "      <td>Quarter2</td>\n",
       "      <td>sweing</td>\n",
       "      <td>Wednesday</td>\n",
       "      <td>7</td>\n",
       "      <td>0.65</td>\n",
       "      <td>30.48</td>\n",
       "      <td>935.0</td>\n",
       "      <td>6840</td>\n",
       "      <td>26</td>\n",
       "      <td>0.0</td>\n",
       "      <td>0</td>\n",
       "      <td>1</td>\n",
       "      <td>57.0</td>\n",
       "      <td>0.650596</td>\n",
       "    </tr>\n",
       "    <tr>\n",
       "      <th>1192</th>\n",
       "      <td>3/11/2015</td>\n",
       "      <td>Quarter2</td>\n",
       "      <td>finishing</td>\n",
       "      <td>Wednesday</td>\n",
       "      <td>10</td>\n",
       "      <td>0.75</td>\n",
       "      <td>2.90</td>\n",
       "      <td>NaN</td>\n",
       "      <td>960</td>\n",
       "      <td>0</td>\n",
       "      <td>0.0</td>\n",
       "      <td>0</td>\n",
       "      <td>0</td>\n",
       "      <td>8.0</td>\n",
       "      <td>0.628333</td>\n",
       "    </tr>\n",
       "    <tr>\n",
       "      <th>1193</th>\n",
       "      <td>3/11/2015</td>\n",
       "      <td>Quarter2</td>\n",
       "      <td>finishing</td>\n",
       "      <td>Wednesday</td>\n",
       "      <td>8</td>\n",
       "      <td>0.70</td>\n",
       "      <td>3.90</td>\n",
       "      <td>NaN</td>\n",
       "      <td>960</td>\n",
       "      <td>0</td>\n",
       "      <td>0.0</td>\n",
       "      <td>0</td>\n",
       "      <td>0</td>\n",
       "      <td>8.0</td>\n",
       "      <td>0.625625</td>\n",
       "    </tr>\n",
       "    <tr>\n",
       "      <th>1194</th>\n",
       "      <td>3/11/2015</td>\n",
       "      <td>Quarter2</td>\n",
       "      <td>finishing</td>\n",
       "      <td>Wednesday</td>\n",
       "      <td>7</td>\n",
       "      <td>0.65</td>\n",
       "      <td>3.90</td>\n",
       "      <td>NaN</td>\n",
       "      <td>960</td>\n",
       "      <td>0</td>\n",
       "      <td>0.0</td>\n",
       "      <td>0</td>\n",
       "      <td>0</td>\n",
       "      <td>8.0</td>\n",
       "      <td>0.625625</td>\n",
       "    </tr>\n",
       "    <tr>\n",
       "      <th>1195</th>\n",
       "      <td>3/11/2015</td>\n",
       "      <td>Quarter2</td>\n",
       "      <td>finishing</td>\n",
       "      <td>Wednesday</td>\n",
       "      <td>9</td>\n",
       "      <td>0.75</td>\n",
       "      <td>2.90</td>\n",
       "      <td>NaN</td>\n",
       "      <td>1800</td>\n",
       "      <td>0</td>\n",
       "      <td>0.0</td>\n",
       "      <td>0</td>\n",
       "      <td>0</td>\n",
       "      <td>15.0</td>\n",
       "      <td>0.505889</td>\n",
       "    </tr>\n",
       "    <tr>\n",
       "      <th>1196</th>\n",
       "      <td>3/11/2015</td>\n",
       "      <td>Quarter2</td>\n",
       "      <td>finishing</td>\n",
       "      <td>Wednesday</td>\n",
       "      <td>6</td>\n",
       "      <td>0.70</td>\n",
       "      <td>2.90</td>\n",
       "      <td>NaN</td>\n",
       "      <td>720</td>\n",
       "      <td>0</td>\n",
       "      <td>0.0</td>\n",
       "      <td>0</td>\n",
       "      <td>0</td>\n",
       "      <td>6.0</td>\n",
       "      <td>0.394722</td>\n",
       "    </tr>\n",
       "  </tbody>\n",
       "</table>\n",
       "</div>"
      ],
      "text/plain": [
       "           date   quarter  department        day  team  targeted_productivity  \\\n",
       "0      1/1/2015  Quarter1      sweing   Thursday     8                   0.80   \n",
       "1      1/1/2015  Quarter1  finishing    Thursday     1                   0.75   \n",
       "2      1/1/2015  Quarter1      sweing   Thursday    11                   0.80   \n",
       "3      1/1/2015  Quarter1      sweing   Thursday    12                   0.80   \n",
       "4      1/1/2015  Quarter1      sweing   Thursday     6                   0.80   \n",
       "5      1/1/2015  Quarter1      sweing   Thursday     7                   0.80   \n",
       "6      1/1/2015  Quarter1  finishing    Thursday     2                   0.75   \n",
       "7      1/1/2015  Quarter1      sweing   Thursday     3                   0.75   \n",
       "8      1/1/2015  Quarter1      sweing   Thursday     2                   0.75   \n",
       "9      1/1/2015  Quarter1      sweing   Thursday     1                   0.75   \n",
       "1187  3/11/2015  Quarter2      sweing  Wednesday     4                   0.75   \n",
       "1188  3/11/2015  Quarter2      sweing  Wednesday     5                   0.70   \n",
       "1189  3/11/2015  Quarter2      sweing  Wednesday     8                   0.70   \n",
       "1190  3/11/2015  Quarter2      sweing  Wednesday     6                   0.70   \n",
       "1191  3/11/2015  Quarter2      sweing  Wednesday     7                   0.65   \n",
       "1192  3/11/2015  Quarter2   finishing  Wednesday    10                   0.75   \n",
       "1193  3/11/2015  Quarter2   finishing  Wednesday     8                   0.70   \n",
       "1194  3/11/2015  Quarter2   finishing  Wednesday     7                   0.65   \n",
       "1195  3/11/2015  Quarter2   finishing  Wednesday     9                   0.75   \n",
       "1196  3/11/2015  Quarter2   finishing  Wednesday     6                   0.70   \n",
       "\n",
       "        smv     wip  over_time  incentive  idle_time  idle_men  \\\n",
       "0     26.16  1108.0       7080         98        0.0         0   \n",
       "1      3.94     NaN        960          0        0.0         0   \n",
       "2     11.41   968.0       3660         50        0.0         0   \n",
       "3     11.41   968.0       3660         50        0.0         0   \n",
       "4     25.90  1170.0       1920         50        0.0         0   \n",
       "5     25.90   984.0       6720         38        0.0         0   \n",
       "6      3.94     NaN        960          0        0.0         0   \n",
       "7     28.08   795.0       6900         45        0.0         0   \n",
       "8     19.87   733.0       6000         34        0.0         0   \n",
       "9     28.08   681.0       6900         45        0.0         0   \n",
       "1187  26.82  1054.0       7080         45        0.0         0   \n",
       "1188  26.82   992.0       6960         30        0.0         0   \n",
       "1189  30.48   914.0       6840         30        0.0         0   \n",
       "1190  23.41  1128.0       4560         40        0.0         0   \n",
       "1191  30.48   935.0       6840         26        0.0         0   \n",
       "1192   2.90     NaN        960          0        0.0         0   \n",
       "1193   3.90     NaN        960          0        0.0         0   \n",
       "1194   3.90     NaN        960          0        0.0         0   \n",
       "1195   2.90     NaN       1800          0        0.0         0   \n",
       "1196   2.90     NaN        720          0        0.0         0   \n",
       "\n",
       "      no_of_style_change  no_of_workers  actual_productivity  \n",
       "0                      0           59.0             0.940725  \n",
       "1                      0            8.0             0.886500  \n",
       "2                      0           30.5             0.800570  \n",
       "3                      0           30.5             0.800570  \n",
       "4                      0           56.0             0.800382  \n",
       "5                      0           56.0             0.800125  \n",
       "6                      0            8.0             0.755167  \n",
       "7                      0           57.5             0.753683  \n",
       "8                      0           55.0             0.753098  \n",
       "9                      0           57.5             0.750428  \n",
       "1187                   0           59.0             0.750051  \n",
       "1188                   1           58.0             0.700557  \n",
       "1189                   1           57.0             0.700505  \n",
       "1190                   1           38.0             0.700246  \n",
       "1191                   1           57.0             0.650596  \n",
       "1192                   0            8.0             0.628333  \n",
       "1193                   0            8.0             0.625625  \n",
       "1194                   0            8.0             0.625625  \n",
       "1195                   0           15.0             0.505889  \n",
       "1196                   0            6.0             0.394722  "
      ]
     },
     "execution_count": 2,
     "metadata": {},
     "output_type": "execute_result"
    }
   ],
   "source": [
    "pd.concat([garment.head(10), garment.tail(10)])"
   ]
  },
  {
   "cell_type": "markdown",
   "id": "2e3aded1",
   "metadata": {},
   "source": [
    "## Inspecting the characteristics of the data\n",
    "We will check the columns data types to understand how to use them. Also, we will summarize the numeric columns to have a first look of the spread of data in each column and lastly check the total number of rows and columns that make up the data"
   ]
  },
  {
   "cell_type": "code",
   "execution_count": 3,
   "id": "1880d619",
   "metadata": {
    "scrolled": false
   },
   "outputs": [
    {
     "name": "stdout",
     "output_type": "stream",
     "text": [
      "<class 'pandas.core.frame.DataFrame'>\n",
      "RangeIndex: 1197 entries, 0 to 1196\n",
      "Data columns (total 15 columns):\n",
      " #   Column                 Non-Null Count  Dtype  \n",
      "---  ------                 --------------  -----  \n",
      " 0   date                   1197 non-null   object \n",
      " 1   quarter                1197 non-null   object \n",
      " 2   department             1197 non-null   object \n",
      " 3   day                    1197 non-null   object \n",
      " 4   team                   1197 non-null   int64  \n",
      " 5   targeted_productivity  1197 non-null   float64\n",
      " 6   smv                    1197 non-null   float64\n",
      " 7   wip                    691 non-null    float64\n",
      " 8   over_time              1197 non-null   int64  \n",
      " 9   incentive              1197 non-null   int64  \n",
      " 10  idle_time              1197 non-null   float64\n",
      " 11  idle_men               1197 non-null   int64  \n",
      " 12  no_of_style_change     1197 non-null   int64  \n",
      " 13  no_of_workers          1197 non-null   float64\n",
      " 14  actual_productivity    1197 non-null   float64\n",
      "dtypes: float64(6), int64(5), object(4)\n",
      "memory usage: 140.4+ KB\n",
      "None\n",
      "              team  targeted_productivity          smv           wip  \\\n",
      "count  1197.000000            1197.000000  1197.000000    691.000000   \n",
      "mean      6.426901               0.729632    15.062172   1190.465991   \n",
      "std       3.463963               0.097891    10.943219   1837.455001   \n",
      "min       1.000000               0.070000     2.900000      7.000000   \n",
      "25%       3.000000               0.700000     3.940000    774.500000   \n",
      "50%       6.000000               0.750000    15.260000   1039.000000   \n",
      "75%       9.000000               0.800000    24.260000   1252.500000   \n",
      "max      12.000000               0.800000    54.560000  23122.000000   \n",
      "\n",
      "          over_time    incentive    idle_time     idle_men  \\\n",
      "count   1197.000000  1197.000000  1197.000000  1197.000000   \n",
      "mean    4567.460317    38.210526     0.730159     0.369256   \n",
      "std     3348.823563   160.182643    12.709757     3.268987   \n",
      "min        0.000000     0.000000     0.000000     0.000000   \n",
      "25%     1440.000000     0.000000     0.000000     0.000000   \n",
      "50%     3960.000000     0.000000     0.000000     0.000000   \n",
      "75%     6960.000000    50.000000     0.000000     0.000000   \n",
      "max    25920.000000  3600.000000   300.000000    45.000000   \n",
      "\n",
      "       no_of_style_change  no_of_workers  actual_productivity  \n",
      "count         1197.000000    1197.000000          1197.000000  \n",
      "mean             0.150376      34.609858             0.735091  \n",
      "std              0.427848      22.197687             0.174488  \n",
      "min              0.000000       2.000000             0.233705  \n",
      "25%              0.000000       9.000000             0.650307  \n",
      "50%              0.000000      34.000000             0.773333  \n",
      "75%              0.000000      57.000000             0.850253  \n",
      "max              2.000000      89.000000             1.120437  \n",
      "(1197, 15)\n"
     ]
    }
   ],
   "source": [
    "print(garment.info())\n",
    "print(garment.describe())\n",
    "print(garment.shape)"
   ]
  },
  {
   "cell_type": "markdown",
   "id": "46868ebe",
   "metadata": {},
   "source": [
    "## Rearranging the columns\n",
    "The two productivity columns are far apart. We will bring them next to each other so that we can easily compare them. The columns are targeted_productivity and actual_productivity. We will then divide the actual productivity by the targeted productivity to view how well the targets are achieved in percentages"
   ]
  },
  {
   "cell_type": "code",
   "execution_count": 4,
   "id": "42860f74",
   "metadata": {},
   "outputs": [
    {
     "name": "stdout",
     "output_type": "stream",
     "text": [
      "count    1197.000000\n",
      "mean        1.020433\n",
      "std         0.316968\n",
      "min         0.297552\n",
      "25%         0.987259\n",
      "50%         1.000713\n",
      "75%         1.125162\n",
      "max         7.469212\n",
      "Name: productivity_difference, dtype: float64\n"
     ]
    }
   ],
   "source": [
    "garment.columns\n",
    "\n",
    "garment = garment[['date', 'quarter', 'department', 'day', 'team',\n",
    "       'smv', 'wip', 'over_time', 'incentive', 'idle_time', 'idle_men',\n",
    "       'no_of_style_change', 'no_of_workers', 'targeted_productivity', 'actual_productivity']]\n",
    "\n",
    "garment['productivity_difference'] = garment['actual_productivity'] / garment['targeted_productivity']\n",
    "print(garment['productivity_difference'].describe())"
   ]
  },
  {
   "cell_type": "markdown",
   "id": "a839e5ff",
   "metadata": {},
   "source": [
    "We can see that a large majority of the targets were met. Around 75% of the tasks were completed."
   ]
  },
  {
   "cell_type": "markdown",
   "id": "c7458141",
   "metadata": {},
   "source": [
    "## Visualizing the productivity difference column\n",
    "In the previous cell we created a new column that explains the extent to which the targets are achieved. We will now visualizing it to aid our understanding of the column. The visualization will be done with boxplot, scatterplot and histogram"
   ]
  },
  {
   "cell_type": "code",
   "execution_count": 5,
   "id": "347452f6",
   "metadata": {
    "scrolled": false
   },
   "outputs": [
    {
     "data": {
      "image/png": "[encoded data removed]",
      "text/plain": [
       "<Figure size 640x480 with 1 Axes>"
      ]
     },
     "metadata": {},
     "output_type": "display_data"
    },
    {
     "data": {
      "image/png": "[encoded data removed]",
      "text/plain": [
       "<Figure size 640x480 with 1 Axes>"
      ]
     },
     "metadata": {},
     "output_type": "display_data"
    },
    {
     "data": {
      "image/png": "[encoded data removed]",
      "text/plain": [
       "<Figure size 640x480 with 1 Axes>"
      ]
     },
     "metadata": {},
     "output_type": "display_data"
    }
   ],
   "source": [
    "plt.boxplot(garment['productivity_difference'])\n",
    "plt.show()\n",
    "garment['productivity_difference'].hist()\n",
    "plt.axvline(garment['productivity_difference'].mean(), color='red', alpha=.6)\n",
    "plt.show()\n",
    "plt.scatter(garment['targeted_productivity'], garment['actual_productivity'])\n",
    "plt.show()"
   ]
  },
  {
   "cell_type": "markdown",
   "id": "9ebcdc79",
   "metadata": {},
   "source": [
    "From the visualizations we can come to the conclusion that most of the data points are around 0.4 and 2 with outliers stretching to around 7"
   ]
  },
  {
   "cell_type": "markdown",
   "id": "6c7e560d",
   "metadata": {},
   "source": [
    "## Inspecting the null column\n",
    "There seem to be null entries in wip column when the department is finishing. Let's run a code to confirm that this is the case"
   ]
  },
  {
   "cell_type": "code",
   "execution_count": 6,
   "id": "15d91555",
   "metadata": {
    "scrolled": false
   },
   "outputs": [
    {
     "name": "stdout",
     "output_type": "stream",
     "text": [
      "           date   quarter  department        day  team   smv  wip  over_time  \\\n",
      "1      1/1/2015  Quarter1  finishing    Thursday     1  3.94  NaN        960   \n",
      "6      1/1/2015  Quarter1  finishing    Thursday     2  3.94  NaN        960   \n",
      "13     1/1/2015  Quarter1  finishing    Thursday    10  3.94  NaN        960   \n",
      "14     1/1/2015  Quarter1  finishing    Thursday     8  2.90  NaN        960   \n",
      "15     1/1/2015  Quarter1  finishing    Thursday     4  3.94  NaN       2160   \n",
      "...         ...       ...         ...        ...   ...   ...  ...        ...   \n",
      "1192  3/11/2015  Quarter2   finishing  Wednesday    10  2.90  NaN        960   \n",
      "1193  3/11/2015  Quarter2   finishing  Wednesday     8  3.90  NaN        960   \n",
      "1194  3/11/2015  Quarter2   finishing  Wednesday     7  3.90  NaN        960   \n",
      "1195  3/11/2015  Quarter2   finishing  Wednesday     9  2.90  NaN       1800   \n",
      "1196  3/11/2015  Quarter2   finishing  Wednesday     6  2.90  NaN        720   \n",
      "\n",
      "      incentive  idle_time  idle_men  no_of_style_change  no_of_workers  \\\n",
      "1             0        0.0         0                   0            8.0   \n",
      "6             0        0.0         0                   0            8.0   \n",
      "13            0        0.0         0                   0            8.0   \n",
      "14            0        0.0         0                   0            8.0   \n",
      "15            0        0.0         0                   0           18.0   \n",
      "...         ...        ...       ...                 ...            ...   \n",
      "1192          0        0.0         0                   0            8.0   \n",
      "1193          0        0.0         0                   0            8.0   \n",
      "1194          0        0.0         0                   0            8.0   \n",
      "1195          0        0.0         0                   0           15.0   \n",
      "1196          0        0.0         0                   0            6.0   \n",
      "\n",
      "      targeted_productivity  actual_productivity  productivity_difference  \n",
      "1                      0.75             0.886500                 1.182000  \n",
      "6                      0.75             0.755167                 1.006889  \n",
      "13                     0.65             0.705917                 1.086026  \n",
      "14                     0.75             0.676667                 0.902222  \n",
      "15                     0.75             0.593056                 0.790741  \n",
      "...                     ...                  ...                      ...  \n",
      "1192                   0.75             0.628333                 0.837778  \n",
      "1193                   0.70             0.625625                 0.893750  \n",
      "1194                   0.65             0.625625                 0.962500  \n",
      "1195                   0.75             0.505889                 0.674519  \n",
      "1196                   0.70             0.394722                 0.563889  \n",
      "\n",
      "[506 rows x 16 columns]\n",
      "finishing     257\n",
      "finishing     249\n",
      "Name: department, dtype: int64\n"
     ]
    }
   ],
   "source": [
    "print(garment.loc[garment['wip'].isnull()])\n",
    "\n",
    "print(garment.loc[garment['wip'].isnull(), 'department'].value_counts())"
   ]
  },
  {
   "cell_type": "markdown",
   "id": "d2bf61fa",
   "metadata": {},
   "source": [
    "Indeed our suspition is true. This indicates that there is a connection between null entries in the wip column and the department finishing. When confirming the total number of null entries in the departments we discovered that the finishing entry in the column appears twice as unique inputs. We will look into this next"
   ]
  },
  {
   "cell_type": "markdown",
   "id": "5b798281",
   "metadata": {},
   "source": [
    "## Fixing the deparment column anomaly\n",
    "The department column shows finishing two seperate times even though its is supposed to appear as one. This is likely due to whitespaces in the entries of the values. We will investigate this and make the necessary adjustment"
   ]
  },
  {
   "cell_type": "code",
   "execution_count": 7,
   "id": "f4cc121d",
   "metadata": {},
   "outputs": [
    {
     "name": "stdout",
     "output_type": "stream",
     "text": [
      "['sweing' 'finishing']\n"
     ]
    },
    {
     "data": {
      "text/plain": [
       "False"
      ]
     },
     "execution_count": 7,
     "metadata": {},
     "output_type": "execute_result"
    }
   ],
   "source": [
    "print(garment['department'].str.replace(' ', '').unique())\n",
    "\n",
    "garment['department'].dtypes != 'object'"
   ]
  },
  {
   "cell_type": "markdown",
   "id": "2f970611",
   "metadata": {},
   "source": [
    "We ran a code that removes the whitespace in the department column. In other to deal with the same issue in other columns, we will create a function instead that will be applied to all of the object columns in the data."
   ]
  },
  {
   "cell_type": "markdown",
   "id": "5ff9c5cc",
   "metadata": {},
   "source": [
    "## Normalizing all object columns\n",
    "Just to be safe, we will apply the process used in the department column for all other columns. A function will be created to remove all whitespaces in the objects' columns"
   ]
  },
  {
   "cell_type": "code",
   "execution_count": 8,
   "id": "5c4203e5",
   "metadata": {},
   "outputs": [
    {
     "data": {
      "text/plain": [
       "sweing       691\n",
       "finishing    506\n",
       "Name: department, dtype: int64"
      ]
     },
     "execution_count": 8,
     "metadata": {},
     "output_type": "execute_result"
    }
   ],
   "source": [
    "def strip_space(x):\n",
    "        return x.str.replace(' ', '')\n",
    "    \n",
    "obj_col = garment.select_dtypes(exclude='number').columns\n",
    "garment[obj_col] = garment[obj_col].apply(strip_space)\n",
    "\n",
    "garment['department'].value_counts()"
   ]
  },
  {
   "cell_type": "markdown",
   "id": "ce0da618",
   "metadata": {},
   "source": [
    "We have successfully implemented the function on all of our object columns. Let's explore the dataset further"
   ]
  },
  {
   "cell_type": "markdown",
   "id": "511643dc",
   "metadata": {},
   "source": [
    "## Handling the missing column\n",
    "The wip column appears to have a missing value when there are no work in progress, this does not looks deliberate, since all other values in the column are positive numbers. For this reason, we will treat the null values as zero, suggesting that the rows were left out because there was no number to add"
   ]
  },
  {
   "cell_type": "code",
   "execution_count": 9,
   "id": "172e37eb",
   "metadata": {
    "scrolled": false
   },
   "outputs": [
    {
     "data": {
      "text/html": [
       "<div>\n",
       "<style scoped>\n",
       "    .dataframe tbody tr th:only-of-type {\n",
       "        vertical-align: middle;\n",
       "    }\n",
       "\n",
       "    .dataframe tbody tr th {\n",
       "        vertical-align: top;\n",
       "    }\n",
       "\n",
       "    .dataframe thead th {\n",
       "        text-align: right;\n",
       "    }\n",
       "</style>\n",
       "<table border=\"1\" class=\"dataframe\">\n",
       "  <thead>\n",
       "    <tr style=\"text-align: right;\">\n",
       "      <th></th>\n",
       "      <th>date</th>\n",
       "      <th>quarter</th>\n",
       "      <th>department</th>\n",
       "      <th>day</th>\n",
       "      <th>team</th>\n",
       "      <th>smv</th>\n",
       "      <th>wip</th>\n",
       "      <th>over_time</th>\n",
       "      <th>incentive</th>\n",
       "      <th>idle_time</th>\n",
       "      <th>idle_men</th>\n",
       "      <th>no_of_style_change</th>\n",
       "      <th>no_of_workers</th>\n",
       "      <th>targeted_productivity</th>\n",
       "      <th>actual_productivity</th>\n",
       "      <th>productivity_difference</th>\n",
       "    </tr>\n",
       "  </thead>\n",
       "  <tbody>\n",
       "    <tr>\n",
       "      <th>0</th>\n",
       "      <td>1/1/2015</td>\n",
       "      <td>Quarter1</td>\n",
       "      <td>sweing</td>\n",
       "      <td>Thursday</td>\n",
       "      <td>8</td>\n",
       "      <td>26.16</td>\n",
       "      <td>1108.0</td>\n",
       "      <td>7080</td>\n",
       "      <td>98</td>\n",
       "      <td>0.0</td>\n",
       "      <td>0</td>\n",
       "      <td>0</td>\n",
       "      <td>59.0</td>\n",
       "      <td>0.80</td>\n",
       "      <td>0.940725</td>\n",
       "      <td>1.175907</td>\n",
       "    </tr>\n",
       "    <tr>\n",
       "      <th>1</th>\n",
       "      <td>1/1/2015</td>\n",
       "      <td>Quarter1</td>\n",
       "      <td>finishing</td>\n",
       "      <td>Thursday</td>\n",
       "      <td>1</td>\n",
       "      <td>3.94</td>\n",
       "      <td>0.0</td>\n",
       "      <td>960</td>\n",
       "      <td>0</td>\n",
       "      <td>0.0</td>\n",
       "      <td>0</td>\n",
       "      <td>0</td>\n",
       "      <td>8.0</td>\n",
       "      <td>0.75</td>\n",
       "      <td>0.886500</td>\n",
       "      <td>1.182000</td>\n",
       "    </tr>\n",
       "    <tr>\n",
       "      <th>2</th>\n",
       "      <td>1/1/2015</td>\n",
       "      <td>Quarter1</td>\n",
       "      <td>sweing</td>\n",
       "      <td>Thursday</td>\n",
       "      <td>11</td>\n",
       "      <td>11.41</td>\n",
       "      <td>968.0</td>\n",
       "      <td>3660</td>\n",
       "      <td>50</td>\n",
       "      <td>0.0</td>\n",
       "      <td>0</td>\n",
       "      <td>0</td>\n",
       "      <td>30.5</td>\n",
       "      <td>0.80</td>\n",
       "      <td>0.800570</td>\n",
       "      <td>1.000713</td>\n",
       "    </tr>\n",
       "    <tr>\n",
       "      <th>3</th>\n",
       "      <td>1/1/2015</td>\n",
       "      <td>Quarter1</td>\n",
       "      <td>sweing</td>\n",
       "      <td>Thursday</td>\n",
       "      <td>12</td>\n",
       "      <td>11.41</td>\n",
       "      <td>968.0</td>\n",
       "      <td>3660</td>\n",
       "      <td>50</td>\n",
       "      <td>0.0</td>\n",
       "      <td>0</td>\n",
       "      <td>0</td>\n",
       "      <td>30.5</td>\n",
       "      <td>0.80</td>\n",
       "      <td>0.800570</td>\n",
       "      <td>1.000713</td>\n",
       "    </tr>\n",
       "    <tr>\n",
       "      <th>4</th>\n",
       "      <td>1/1/2015</td>\n",
       "      <td>Quarter1</td>\n",
       "      <td>sweing</td>\n",
       "      <td>Thursday</td>\n",
       "      <td>6</td>\n",
       "      <td>25.90</td>\n",
       "      <td>1170.0</td>\n",
       "      <td>1920</td>\n",
       "      <td>50</td>\n",
       "      <td>0.0</td>\n",
       "      <td>0</td>\n",
       "      <td>0</td>\n",
       "      <td>56.0</td>\n",
       "      <td>0.80</td>\n",
       "      <td>0.800382</td>\n",
       "      <td>1.000477</td>\n",
       "    </tr>\n",
       "    <tr>\n",
       "      <th>...</th>\n",
       "      <td>...</td>\n",
       "      <td>...</td>\n",
       "      <td>...</td>\n",
       "      <td>...</td>\n",
       "      <td>...</td>\n",
       "      <td>...</td>\n",
       "      <td>...</td>\n",
       "      <td>...</td>\n",
       "      <td>...</td>\n",
       "      <td>...</td>\n",
       "      <td>...</td>\n",
       "      <td>...</td>\n",
       "      <td>...</td>\n",
       "      <td>...</td>\n",
       "      <td>...</td>\n",
       "      <td>...</td>\n",
       "    </tr>\n",
       "    <tr>\n",
       "      <th>1192</th>\n",
       "      <td>3/11/2015</td>\n",
       "      <td>Quarter2</td>\n",
       "      <td>finishing</td>\n",
       "      <td>Wednesday</td>\n",
       "      <td>10</td>\n",
       "      <td>2.90</td>\n",
       "      <td>0.0</td>\n",
       "      <td>960</td>\n",
       "      <td>0</td>\n",
       "      <td>0.0</td>\n",
       "      <td>0</td>\n",
       "      <td>0</td>\n",
       "      <td>8.0</td>\n",
       "      <td>0.75</td>\n",
       "      <td>0.628333</td>\n",
       "      <td>0.837778</td>\n",
       "    </tr>\n",
       "    <tr>\n",
       "      <th>1193</th>\n",
       "      <td>3/11/2015</td>\n",
       "      <td>Quarter2</td>\n",
       "      <td>finishing</td>\n",
       "      <td>Wednesday</td>\n",
       "      <td>8</td>\n",
       "      <td>3.90</td>\n",
       "      <td>0.0</td>\n",
       "      <td>960</td>\n",
       "      <td>0</td>\n",
       "      <td>0.0</td>\n",
       "      <td>0</td>\n",
       "      <td>0</td>\n",
       "      <td>8.0</td>\n",
       "      <td>0.70</td>\n",
       "      <td>0.625625</td>\n",
       "      <td>0.893750</td>\n",
       "    </tr>\n",
       "    <tr>\n",
       "      <th>1194</th>\n",
       "      <td>3/11/2015</td>\n",
       "      <td>Quarter2</td>\n",
       "      <td>finishing</td>\n",
       "      <td>Wednesday</td>\n",
       "      <td>7</td>\n",
       "      <td>3.90</td>\n",
       "      <td>0.0</td>\n",
       "      <td>960</td>\n",
       "      <td>0</td>\n",
       "      <td>0.0</td>\n",
       "      <td>0</td>\n",
       "      <td>0</td>\n",
       "      <td>8.0</td>\n",
       "      <td>0.65</td>\n",
       "      <td>0.625625</td>\n",
       "      <td>0.962500</td>\n",
       "    </tr>\n",
       "    <tr>\n",
       "      <th>1195</th>\n",
       "      <td>3/11/2015</td>\n",
       "      <td>Quarter2</td>\n",
       "      <td>finishing</td>\n",
       "      <td>Wednesday</td>\n",
       "      <td>9</td>\n",
       "      <td>2.90</td>\n",
       "      <td>0.0</td>\n",
       "      <td>1800</td>\n",
       "      <td>0</td>\n",
       "      <td>0.0</td>\n",
       "      <td>0</td>\n",
       "      <td>0</td>\n",
       "      <td>15.0</td>\n",
       "      <td>0.75</td>\n",
       "      <td>0.505889</td>\n",
       "      <td>0.674519</td>\n",
       "    </tr>\n",
       "    <tr>\n",
       "      <th>1196</th>\n",
       "      <td>3/11/2015</td>\n",
       "      <td>Quarter2</td>\n",
       "      <td>finishing</td>\n",
       "      <td>Wednesday</td>\n",
       "      <td>6</td>\n",
       "      <td>2.90</td>\n",
       "      <td>0.0</td>\n",
       "      <td>720</td>\n",
       "      <td>0</td>\n",
       "      <td>0.0</td>\n",
       "      <td>0</td>\n",
       "      <td>0</td>\n",
       "      <td>6.0</td>\n",
       "      <td>0.70</td>\n",
       "      <td>0.394722</td>\n",
       "      <td>0.563889</td>\n",
       "    </tr>\n",
       "  </tbody>\n",
       "</table>\n",
       "<p>1197 rows × 16 columns</p>\n",
       "</div>"
      ],
      "text/plain": [
       "           date   quarter department        day  team    smv     wip  \\\n",
       "0      1/1/2015  Quarter1     sweing   Thursday     8  26.16  1108.0   \n",
       "1      1/1/2015  Quarter1  finishing   Thursday     1   3.94     0.0   \n",
       "2      1/1/2015  Quarter1     sweing   Thursday    11  11.41   968.0   \n",
       "3      1/1/2015  Quarter1     sweing   Thursday    12  11.41   968.0   \n",
       "4      1/1/2015  Quarter1     sweing   Thursday     6  25.90  1170.0   \n",
       "...         ...       ...        ...        ...   ...    ...     ...   \n",
       "1192  3/11/2015  Quarter2  finishing  Wednesday    10   2.90     0.0   \n",
       "1193  3/11/2015  Quarter2  finishing  Wednesday     8   3.90     0.0   \n",
       "1194  3/11/2015  Quarter2  finishing  Wednesday     7   3.90     0.0   \n",
       "1195  3/11/2015  Quarter2  finishing  Wednesday     9   2.90     0.0   \n",
       "1196  3/11/2015  Quarter2  finishing  Wednesday     6   2.90     0.0   \n",
       "\n",
       "      over_time  incentive  idle_time  idle_men  no_of_style_change  \\\n",
       "0          7080         98        0.0         0                   0   \n",
       "1           960          0        0.0         0                   0   \n",
       "2          3660         50        0.0         0                   0   \n",
       "3          3660         50        0.0         0                   0   \n",
       "4          1920         50        0.0         0                   0   \n",
       "...         ...        ...        ...       ...                 ...   \n",
       "1192        960          0        0.0         0                   0   \n",
       "1193        960          0        0.0         0                   0   \n",
       "1194        960          0        0.0         0                   0   \n",
       "1195       1800          0        0.0         0                   0   \n",
       "1196        720          0        0.0         0                   0   \n",
       "\n",
       "      no_of_workers  targeted_productivity  actual_productivity  \\\n",
       "0              59.0                   0.80             0.940725   \n",
       "1               8.0                   0.75             0.886500   \n",
       "2              30.5                   0.80             0.800570   \n",
       "3              30.5                   0.80             0.800570   \n",
       "4              56.0                   0.80             0.800382   \n",
       "...             ...                    ...                  ...   \n",
       "1192            8.0                   0.75             0.628333   \n",
       "1193            8.0                   0.70             0.625625   \n",
       "1194            8.0                   0.65             0.625625   \n",
       "1195           15.0                   0.75             0.505889   \n",
       "1196            6.0                   0.70             0.394722   \n",
       "\n",
       "      productivity_difference  \n",
       "0                    1.175907  \n",
       "1                    1.182000  \n",
       "2                    1.000713  \n",
       "3                    1.000713  \n",
       "4                    1.000477  \n",
       "...                       ...  \n",
       "1192                 0.837778  \n",
       "1193                 0.893750  \n",
       "1194                 0.962500  \n",
       "1195                 0.674519  \n",
       "1196                 0.563889  \n",
       "\n",
       "[1197 rows x 16 columns]"
      ]
     },
     "execution_count": 9,
     "metadata": {},
     "output_type": "execute_result"
    }
   ],
   "source": [
    "garment['wip'].value_counts().sort_index(ascending=True)\n",
    "garment['wip'].fillna(0, inplace=True)\n",
    "garment"
   ]
  },
  {
   "cell_type": "markdown",
   "id": "55b7d991",
   "metadata": {},
   "source": [
    "## Inspecting columns lacking diversity\n",
    "From the table, columns like idle_time, idle_men and no_of_style_change seem to be dominated by zeros. Let's compare the productivity of the zero columns and others to see if it makes any difference. If it does not make any significant difference, this means that the columns does not have any impact on our goal for this project. Therefore, they will be removed."
   ]
  },
  {
   "cell_type": "code",
   "execution_count": 10,
   "id": "944e9832",
   "metadata": {
    "scrolled": false
   },
   "outputs": [
    {
     "data": {
      "image/png": "[encoded data removed]",
      "text/plain": [
       "<Figure size 640x480 with 1 Axes>"
      ]
     },
     "metadata": {},
     "output_type": "display_data"
    },
    {
     "data": {
      "image/png": "[encoded data removed]",
      "text/plain": [
       "<Figure size 640x480 with 1 Axes>"
      ]
     },
     "metadata": {},
     "output_type": "display_data"
    },
    {
     "data": {
      "image/png": "[encoded data removed]",
      "text/plain": [
       "<Figure size 640x480 with 1 Axes>"
      ]
     },
     "metadata": {},
     "output_type": "display_data"
    }
   ],
   "source": [
    "idle_time_0 = garment.loc[garment['idle_time'] == 0, 'productivity_difference']\n",
    "idle_time_more = garment.loc[garment['idle_time'] != 0, 'productivity_difference']\n",
    "\n",
    "idle_time_0_mean = idle_time_0.mean()\n",
    "idle_time_more_mean = idle_time_more.mean()\n",
    "\n",
    "idle_men_0 = garment.loc[garment['idle_men'] == 0, 'productivity_difference']\n",
    "idle_men_more = garment.loc[garment['idle_men'] != 0, 'productivity_difference']\n",
    "\n",
    "idle_men_0_mean = idle_men_0.mean()\n",
    "idle_men_more_mean = idle_men_more.mean()\n",
    "\n",
    "style_change_0 = garment.loc[garment['no_of_style_change'] == 0, 'productivity_difference']\n",
    "style_change_more = garment.loc[garment['no_of_style_change'] != 0, 'productivity_difference']\n",
    "\n",
    "style_change_0_mean = style_change_0.mean()\n",
    "style_change_more_mean = style_change_more.mean()\n",
    "\n",
    "plt.bar(['0', 'more'], [idle_time_0_mean, idle_time_more_mean])\n",
    "plt.title('Idle Time')\n",
    "plt.show()\n",
    "\n",
    "plt.bar(['0', 'more'], [idle_men_0_mean, idle_men_more_mean])\n",
    "plt.title('Idle Men')\n",
    "plt.show()\n",
    "\n",
    "plt.bar(['0', 'more'], [style_change_0_mean, style_change_more_mean])\n",
    "plt.title('Number of Style Change')\n",
    "plt.show()"
   ]
  },
  {
   "cell_type": "markdown",
   "id": "2decabaf",
   "metadata": {},
   "source": [
    "In all of the columns the average productivity is greater when the values are zeros than they are greater than zeros. This suggests a difference in the results from the two categories. Let's investigate them more"
   ]
  },
  {
   "cell_type": "markdown",
   "id": "0ede0392",
   "metadata": {},
   "source": [
    "## Testing for significant difference\n",
    "We will utilize the ttest statistical technique to determine if the results from the rows with zeros is significantly different from the ones with values above zero. Our confidence interval will be 95%. This means that a pvalue below 5% will lead us to accept that there is a significant difference in the results from the two groups and reject it if otherwise. This will be done for the three columns we are evaluating: idle_time, idle_men and no_of_style_change"
   ]
  },
  {
   "cell_type": "code",
   "execution_count": 11,
   "id": "d318e41e",
   "metadata": {
    "scrolled": false
   },
   "outputs": [
    {
     "name": "stdout",
     "output_type": "stream",
     "text": [
      "\u001b[1mIdle Time\u001b[0m\n",
      "tstats: 3.9228953711767844, p_value9.247360155994061e-05\n",
      "\n",
      "\n",
      "\u001b[1mIdle Men\u001b[0m\n",
      "tstats: 3.9228953711767844, p_value9.247360155994061e-05\n",
      "\n",
      "\n",
      "\u001b[1mStyle Change\u001b[0m\n",
      "tstats: 3.3831852553148543, p_value0.0007397131708278762\n"
     ]
    }
   ],
   "source": [
    "from scipy.stats import ttest_ind\n",
    "tstats_1, p_value_1 = ttest_ind(idle_time_0, idle_time_more)\n",
    "tstats_2, p_value_2 = ttest_ind(idle_men_0, idle_men_more)\n",
    "tstats_3, p_value_3 = ttest_ind(style_change_0, style_change_more)\n",
    "\n",
    "print('\\033[1m' + 'Idle Time' + '\\033[0m')\n",
    "print(f'tstats: {tstats_1}, p_value{p_value_1}')\n",
    "\n",
    "print('\\n')\n",
    "\n",
    "print('\\033[1m' + 'Idle Men' + '\\033[0m')\n",
    "print(f'tstats: {tstats_2}, p_value{p_value_2}')\n",
    "\n",
    "print('\\n')\n",
    "\n",
    "print('\\033[1m' + 'Style Change' + '\\033[0m')\n",
    "print(f'tstats: {tstats_3}, p_value{p_value_3}')"
   ]
  },
  {
   "cell_type": "markdown",
   "id": "a8daf6be",
   "metadata": {},
   "source": [
    "The result shows an overwhelming support that there is a significant difference between the two groups. Since we have no good reason to remove the columns they will remain as part of our potential columns for feature selection."
   ]
  },
  {
   "cell_type": "markdown",
   "id": "db14bd42",
   "metadata": {},
   "source": [
    "## Finding correlations with target column"
   ]
  },
  {
   "cell_type": "code",
   "execution_count": 12,
   "id": "1c2c386d",
   "metadata": {
    "scrolled": false
   },
   "outputs": [
    {
     "name": "stderr",
     "output_type": "stream",
     "text": [
      "C:\\Users\\USER\\AppData\\Local\\Temp\\ipykernel_15540\\1102268925.py:1: FutureWarning: The default value of numeric_only in DataFrame.corrwith is deprecated. In a future version, it will default to False. Select only valid columns or specify the value of numeric_only to silence this warning.\n",
      "  abs(garment.iloc[:,:-2].corrwith(garment['productivity_difference'])).sort_values(ascending=False)\n"
     ]
    },
    {
     "data": {
      "text/plain": [
       "targeted_productivity    0.304810\n",
       "team                     0.127326\n",
       "idle_men                 0.122472\n",
       "no_of_style_change       0.085908\n",
       "smv                      0.080869\n",
       "idle_time                0.041068\n",
       "incentive                0.034457\n",
       "no_of_workers            0.024427\n",
       "wip                      0.019341\n",
       "over_time                0.015206\n",
       "dtype: float64"
      ]
     },
     "execution_count": 12,
     "metadata": {},
     "output_type": "execute_result"
    }
   ],
   "source": [
    "abs(garment.iloc[:,:-2].corrwith(garment['productivity_difference'])).sort_values(ascending=False)"
   ]
  },
  {
   "cell_type": "markdown",
   "id": "fe67db78",
   "metadata": {},
   "source": [
    "Only the targeted_productivity column showed a strong correlation with the productivity_difference column"
   ]
  },
  {
   "cell_type": "markdown",
   "id": "964bc53a",
   "metadata": {},
   "source": [
    "## Investigating unclear columns\n",
    "It will be better having an understanding of the days when the workers work at the factory. Also, its unclear if the team column value indicate a tag given to each team or the quantity in each team. We will look into this and get clarity."
   ]
  },
  {
   "cell_type": "code",
   "execution_count": 13,
   "id": "36a75040",
   "metadata": {
    "scrolled": true
   },
   "outputs": [
    {
     "name": "stdout",
     "output_type": "stream",
     "text": [
      "Wednesday    208\n",
      "Sunday       203\n",
      "Tuesday      201\n",
      "Thursday     199\n",
      "Monday       199\n",
      "Saturday     187\n",
      "Name: day, dtype: int64\n"
     ]
    },
    {
     "data": {
      "text/plain": [
       "array([ 8,  1, 11, 12,  6,  7,  2,  3,  9, 10,  5,  4], dtype=int64)"
      ]
     },
     "execution_count": 13,
     "metadata": {},
     "output_type": "execute_result"
    }
   ],
   "source": [
    "print(garment['day'].value_counts())\n",
    "garment.team.unique()"
   ]
  },
  {
   "cell_type": "markdown",
   "id": "ef5dd137",
   "metadata": {},
   "source": [
    "The days shows that works are done everyday except on Friday. The team numbers is a tag given to each team. We know this because the number is consecutive and consistent from 1 to 12"
   ]
  },
  {
   "cell_type": "markdown",
   "id": "1ead4ed3",
   "metadata": {},
   "source": [
    "## Understanding the non numeric column relationship with productivity score\n",
    "We have conducted several EDA on the numeric columns, its time to do the same for the object columns to uncover relationships with the productivity column"
   ]
  },
  {
   "cell_type": "code",
   "execution_count": 14,
   "id": "fd6d4597",
   "metadata": {
    "scrolled": false
   },
   "outputs": [
    {
     "name": "stdout",
     "output_type": "stream",
     "text": [
      "Axes(0.125,0.11;0.775x0.77)\n"
     ]
    },
    {
     "data": {
      "image/png": "[encoded data removed]",
      "text/plain": [
       "<Figure size 640x480 with 1 Axes>"
      ]
     },
     "metadata": {},
     "output_type": "display_data"
    },
    {
     "data": {
      "image/png": "[encoded data removed]",
      "text/plain": [
       "<Figure size 640x480 with 1 Axes>"
      ]
     },
     "metadata": {},
     "output_type": "display_data"
    }
   ],
   "source": [
    "print(garment.groupby('department')['productivity_difference'].mean().plot.bar())\n",
    "plt.axhline(y=1, color='red', alpha=.5)\n",
    "plt.show()\n",
    "garment.groupby('day')['productivity_difference'].mean().plot.bar()\n",
    "plt.axhline(y=1, color='red', alpha=.5)\n",
    "plt.show()"
   ]
  },
  {
   "cell_type": "markdown",
   "id": "62b8691d",
   "metadata": {},
   "source": [
    "On average workers in the finishing department are more productive than those in the sewing department. We also see that workers are more productive on Thursdays, a day before their day off and Sunday being the least productive day"
   ]
  },
  {
   "cell_type": "markdown",
   "id": "dd54aeec",
   "metadata": {},
   "source": [
    "## Investigating the date column relationship with productivity score\n",
    "Let's check to see if there are times in the date when productivity level is different than others. If the date does not show any real difference then it will be dropped as it indicates no importance to the productivity of the workers "
   ]
  },
  {
   "cell_type": "code",
   "execution_count": 15,
   "id": "38842a49",
   "metadata": {
    "scrolled": false
   },
   "outputs": [
    {
     "data": {
      "image/png": "[encoded data removed]",
      "text/plain": [
       "<Figure size 640x480 with 1 Axes>"
      ]
     },
     "metadata": {},
     "output_type": "display_data"
    },
    {
     "data": {
      "image/png": "[encoded data removed]",
      "text/plain": [
       "<Figure size 640x480 with 1 Axes>"
      ]
     },
     "metadata": {},
     "output_type": "display_data"
    },
    {
     "data": {
      "image/png": "[encoded data removed]",
      "text/plain": [
       "<Figure size 640x480 with 1 Axes>"
      ]
     },
     "metadata": {},
     "output_type": "display_data"
    }
   ],
   "source": [
    "datetime = pd.to_datetime(garment['date'])\n",
    "datetime_1 = datetime[datetime < '2-1-2015']\n",
    "datetime_2 = datetime[(datetime >= '2-1-2015') & (datetime < '3-1-2015')]\n",
    "datetime_3 = datetime[datetime >= '3-1-2015']\n",
    "\n",
    "dates = [datetime_1, datetime_2, datetime_3]\n",
    "\n",
    "for date in dates:\n",
    "    plt.plot(date.dt.day, garment['productivity_difference'].iloc[:len(date)])\n",
    "    plt.show()\n",
    "#garment['productivity_difference'].iloc[:542]"
   ]
  },
  {
   "cell_type": "markdown",
   "id": "f71615d5",
   "metadata": {},
   "source": [
    "We found a trend in times of the month. Productivity goes up around 11th to 15th of each month. This insight shows that the column may be useful in our model so we will keep it"
   ]
  },
  {
   "cell_type": "markdown",
   "id": "97f933d2",
   "metadata": {},
   "source": [
    "## Choosing necessary features for the model\n",
    "After conducting some exploratory analysis on our table, we will now eliminate unnecessary columns and restructure the remaining to prepare it for our model development. The following columns will be dropped: 1. date - because the dates only contain the first three months. Using it will not convey a result that can be applied on other months. However, a column for number of days in the month will be created because we found patterns between it and the productivity column 2. quarter - The same reason as the date column. 3. actual_productivity - to make it more interpretable we introduced productivity_difference column to account for the relationship between it and targeted_productivity. For this reason the column will not be useful in our model. "
   ]
  },
  {
   "cell_type": "code",
   "execution_count": 16,
   "id": "882ff1e8",
   "metadata": {
    "scrolled": false
   },
   "outputs": [],
   "source": [
    "garment['day_no'] = datetime.dt.day\n",
    "garment = garment.drop(['date', 'quarter', 'actual_productivity'], axis=1)\n",
    "garment.columns\n",
    "garment = garment[['day_no', 'day', 'department', 'team', 'smv', 'wip', 'over_time', 'incentive',\n",
    "       'idle_time', 'idle_men', 'no_of_style_change', 'no_of_workers',\n",
    "       'targeted_productivity', 'productivity_difference']]\n",
    "garment['productivity_difference'] = round(garment['productivity_difference'], 2)"
   ]
  },
  {
   "cell_type": "markdown",
   "id": "5fafbc52",
   "metadata": {},
   "source": [
    "The columns have been dropped and the rest have been repositioned for easy comparison. The values in theproductivity_difference column have been updated to have two decima numbers to match the style in other columns"
   ]
  },
  {
   "cell_type": "markdown",
   "id": "bec4a4ef",
   "metadata": {},
   "source": [
    "## Standardizing the columns\n",
    "It's time to convert all our columns to numbers so that we can perform training and test on the data. We will also change the productivity_difference to productivity_score so that the term can capture the column better"
   ]
  },
  {
   "cell_type": "code",
   "execution_count": 17,
   "id": "b03be3a3",
   "metadata": {
    "scrolled": false
   },
   "outputs": [],
   "source": [
    "garment.rename(columns={'productivity_difference': 'productivity_score'}, inplace=True)\n",
    "day_replace = {'Saturday': '1', 'Sunday': '2', 'Monday': '3', 'Tuesday': '4', 'Wednesday': '5', 'Thursday': '6'}\n",
    "garment['day'] = garment['day'].map(day_replace).astype(int)\n",
    "garment = pd.get_dummies(garment)\n",
    "#garment = garment[['day_no', 'day', 'team', 'department_finishing', 'department_sweing', 'smv', 'wip', 'over_time', 'incentive',\n",
    "#       'idle_time', 'idle_men', 'no_of_style_change', 'no_of_workers',\n",
    "#       'targeted_productivity', 'productivity_score']]"
   ]
  },
  {
   "cell_type": "markdown",
   "id": "12dc42e3",
   "metadata": {},
   "source": [
    "The first day of the week is assigned to Saturday because workers have their day off on Fridays and begin the work week on Saturdays. The other columns were converted into dummy columns"
   ]
  },
  {
   "cell_type": "markdown",
   "id": "85ac6e79",
   "metadata": {},
   "source": [
    "## Importing our model libraries and splitting the dataset\n",
    "For now, we will import the libraries that will be used for our model creation. The libraries will enable us to split our dataset to our desired sizes and perform evaluation on the model created"
   ]
  },
  {
   "cell_type": "code",
   "execution_count": 18,
   "id": "78178f55",
   "metadata": {},
   "outputs": [],
   "source": [
    "from sklearn.tree import DecisionTreeRegressor, export_text\n",
    "from sklearn.model_selection import train_test_split\n",
    "from sklearn.metrics import mean_absolute_error, classification_report, confusion_matrix\n",
    "\n",
    "x = garment.drop('productivity_score', axis=1)\n",
    "y = garment['productivity_score']\n",
    "\n",
    "x_train, x_test, y_train, y_test = train_test_split(x, y, test_size=.20, random_state=99)"
   ]
  },
  {
   "cell_type": "markdown",
   "id": "cf05095b",
   "metadata": {},
   "source": [
    "Our dataset have now been splitted. The next step is to start building our model"
   ]
  },
  {
   "cell_type": "markdown",
   "id": "1e14a321",
   "metadata": {},
   "source": [
    "## Building the model\n",
    "We will start by building an unpruned decision tree and later refine the parameters to achieve a favourable outcome. Note that the tuning of the parameters will be done in this cell but only the final parameters that achieved the best result will be included in the model with no documentation of the steps taken to arrive at the final conclusion"
   ]
  },
  {
   "cell_type": "code",
   "execution_count": 19,
   "id": "df03dc64",
   "metadata": {},
   "outputs": [
    {
     "name": "stdout",
     "output_type": "stream",
     "text": [
      "0.7420009788478179\n"
     ]
    },
    {
     "data": {
      "text/plain": [
       "0.3707212781725955"
      ]
     },
     "execution_count": 19,
     "metadata": {},
     "output_type": "execute_result"
    }
   ],
   "source": [
    "d_tree = DecisionTreeRegressor(criterion='squared_error', max_depth=7, random_state=75)\n",
    "d_tree.fit(x_train, y_train)\n",
    "score = d_tree.score(x_test, y_test)\n",
    "print(d_tree.score(x_train, y_train))\n",
    "score"
   ]
  },
  {
   "cell_type": "markdown",
   "id": "c832d142",
   "metadata": {},
   "source": [
    "While the result on the training data is impressive, the test result is far from it. The difference between the two is much and suggests overfitting of the training data. We will try other approaches to refine the model"
   ]
  },
  {
   "cell_type": "markdown",
   "id": "ff4355d0",
   "metadata": {},
   "source": [
    "## Examining the tree structure\n",
    "After tuning the parameters we were unable to reach a satisfactory result for our model. It's time to inspect the tree to determine the potential cause of the low score generated from it."
   ]
  },
  {
   "cell_type": "code",
   "execution_count": 20,
   "id": "7b648281",
   "metadata": {
    "scrolled": false
   },
   "outputs": [
    {
     "name": "stdout",
     "output_type": "stream",
     "text": [
      "|--- targeted_productivity <= 0.21\n",
      "|   |--- value: [7.47]\n",
      "|--- targeted_productivity >  0.21\n",
      "|   |--- targeted_productivity <= 0.38\n",
      "|   |   |--- no_of_workers <= 26.00\n",
      "|   |   |   |--- day_no <= 10.50\n",
      "|   |   |   |   |--- day <= 2.00\n",
      "|   |   |   |   |   |--- value: [2.30]\n",
      "|   |   |   |   |--- day >  2.00\n",
      "|   |   |   |   |   |--- over_time <= 1380.00\n",
      "|   |   |   |   |   |   |--- value: [2.01]\n",
      "|   |   |   |   |   |--- over_time >  1380.00\n",
      "|   |   |   |   |   |   |--- value: [2.02]\n",
      "|   |   |   |--- day_no >  10.50\n",
      "|   |   |   |   |--- day <= 5.50\n",
      "|   |   |   |   |   |--- team <= 5.00\n",
      "|   |   |   |   |   |   |--- day_no <= 13.50\n",
      "|   |   |   |   |   |   |   |--- value: [2.71]\n",
      "|   |   |   |   |   |   |--- day_no >  13.50\n",
      "|   |   |   |   |   |   |   |--- value: [2.59]\n",
      "|   |   |   |   |   |--- team >  5.00\n",
      "|   |   |   |   |   |   |--- team <= 7.00\n",
      "|   |   |   |   |   |   |   |--- value: [2.79]\n",
      "|   |   |   |   |   |   |--- team >  7.00\n",
      "|   |   |   |   |   |   |   |--- value: [2.84]\n",
      "|   |   |   |   |--- day >  5.50\n",
      "|   |   |   |   |   |--- value: [2.16]\n",
      "|   |   |--- no_of_workers >  26.00\n",
      "|   |   |   |--- day_no <= 7.00\n",
      "|   |   |   |   |--- value: [0.75]\n",
      "|   |   |   |--- day_no >  7.00\n",
      "|   |   |   |   |--- value: [1.00]\n",
      "|   |--- targeted_productivity >  0.38\n",
      "|   |   |--- team <= 5.50\n",
      "|   |   |   |--- smv <= 27.15\n",
      "|   |   |   |   |--- incentive <= 78.00\n",
      "|   |   |   |   |   |--- smv <= 4.45\n",
      "|   |   |   |   |   |   |--- targeted_productivity <= 0.62\n",
      "|   |   |   |   |   |   |   |--- value: [1.33]\n",
      "|   |   |   |   |   |   |--- targeted_productivity >  0.62\n",
      "|   |   |   |   |   |   |   |--- value: [1.11]\n",
      "|   |   |   |   |   |--- smv >  4.45\n",
      "|   |   |   |   |   |   |--- no_of_workers <= 9.00\n",
      "|   |   |   |   |   |   |   |--- value: [0.74]\n",
      "|   |   |   |   |   |   |--- no_of_workers >  9.00\n",
      "|   |   |   |   |   |   |   |--- value: [1.03]\n",
      "|   |   |   |   |--- incentive >  78.00\n",
      "|   |   |   |   |   |--- no_of_workers <= 11.00\n",
      "|   |   |   |   |   |   |--- smv <= 3.92\n",
      "|   |   |   |   |   |   |   |--- value: [0.98]\n",
      "|   |   |   |   |   |   |--- smv >  3.92\n",
      "|   |   |   |   |   |   |   |--- value: [1.06]\n",
      "|   |   |   |   |   |--- no_of_workers >  11.00\n",
      "|   |   |   |   |   |   |--- incentive <= 89.00\n",
      "|   |   |   |   |   |   |   |--- value: [1.15]\n",
      "|   |   |   |   |   |   |--- incentive >  89.00\n",
      "|   |   |   |   |   |   |   |--- value: [1.24]\n",
      "|   |   |   |--- smv >  27.15\n",
      "|   |   |   |   |--- incentive <= 28.00\n",
      "|   |   |   |   |   |--- over_time <= 8880.00\n",
      "|   |   |   |   |   |   |--- idle_men <= 12.50\n",
      "|   |   |   |   |   |   |   |--- value: [0.88]\n",
      "|   |   |   |   |   |   |--- idle_men >  12.50\n",
      "|   |   |   |   |   |   |   |--- value: [0.38]\n",
      "|   |   |   |   |   |--- over_time >  8880.00\n",
      "|   |   |   |   |   |   |--- over_time <= 10305.00\n",
      "|   |   |   |   |   |   |   |--- value: [0.33]\n",
      "|   |   |   |   |   |   |--- over_time >  10305.00\n",
      "|   |   |   |   |   |   |   |--- value: [0.58]\n",
      "|   |   |   |   |--- incentive >  28.00\n",
      "|   |   |   |   |   |--- wip <= 475.50\n",
      "|   |   |   |   |   |   |--- no_of_style_change <= 1.50\n",
      "|   |   |   |   |   |   |   |--- value: [0.95]\n",
      "|   |   |   |   |   |   |--- no_of_style_change >  1.50\n",
      "|   |   |   |   |   |   |   |--- value: [0.62]\n",
      "|   |   |   |   |   |--- wip >  475.50\n",
      "|   |   |   |   |   |   |--- over_time <= 3330.00\n",
      "|   |   |   |   |   |   |   |--- value: [1.09]\n",
      "|   |   |   |   |   |   |--- over_time >  3330.00\n",
      "|   |   |   |   |   |   |   |--- value: [1.00]\n",
      "|   |   |--- team >  5.50\n",
      "|   |   |   |--- no_of_workers <= 8.50\n",
      "|   |   |   |   |--- day_no <= 28.50\n",
      "|   |   |   |   |   |--- day_no <= 17.50\n",
      "|   |   |   |   |   |   |--- targeted_productivity <= 0.55\n",
      "|   |   |   |   |   |   |   |--- value: [1.36]\n",
      "|   |   |   |   |   |   |--- targeted_productivity >  0.55\n",
      "|   |   |   |   |   |   |   |--- value: [0.88]\n",
      "|   |   |   |   |   |--- day_no >  17.50\n",
      "|   |   |   |   |   |   |--- day <= 2.50\n",
      "|   |   |   |   |   |   |   |--- value: [0.53]\n",
      "|   |   |   |   |   |   |--- day >  2.50\n",
      "|   |   |   |   |   |   |   |--- value: [0.76]\n",
      "|   |   |   |   |--- day_no >  28.50\n",
      "|   |   |   |   |   |--- no_of_workers <= 5.00\n",
      "|   |   |   |   |   |   |--- value: [1.30]\n",
      "|   |   |   |   |   |--- no_of_workers >  5.00\n",
      "|   |   |   |   |   |   |--- day_no <= 30.00\n",
      "|   |   |   |   |   |   |   |--- value: [1.44]\n",
      "|   |   |   |   |   |   |--- day_no >  30.00\n",
      "|   |   |   |   |   |   |   |--- value: [1.50]\n",
      "|   |   |   |--- no_of_workers >  8.50\n",
      "|   |   |   |   |--- idle_men <= 12.50\n",
      "|   |   |   |   |   |--- smv <= 4.01\n",
      "|   |   |   |   |   |   |--- day_no <= 21.00\n",
      "|   |   |   |   |   |   |   |--- value: [1.01]\n",
      "|   |   |   |   |   |   |--- day_no >  21.00\n",
      "|   |   |   |   |   |   |   |--- value: [1.27]\n",
      "|   |   |   |   |   |--- smv >  4.01\n",
      "|   |   |   |   |   |   |--- incentive <= 11.50\n",
      "|   |   |   |   |   |   |   |--- value: [0.89]\n",
      "|   |   |   |   |   |   |--- incentive >  11.50\n",
      "|   |   |   |   |   |   |   |--- value: [1.01]\n",
      "|   |   |   |   |--- idle_men >  12.50\n",
      "|   |   |   |   |   |--- no_of_workers <= 57.50\n",
      "|   |   |   |   |   |   |--- no_of_style_change <= 0.50\n",
      "|   |   |   |   |   |   |   |--- value: [0.52]\n",
      "|   |   |   |   |   |   |--- no_of_style_change >  0.50\n",
      "|   |   |   |   |   |   |   |--- value: [0.43]\n",
      "|   |   |   |   |   |--- no_of_workers >  57.50\n",
      "|   |   |   |   |   |   |--- idle_time <= 4.25\n",
      "|   |   |   |   |   |   |   |--- value: [0.62]\n",
      "|   |   |   |   |   |   |--- idle_time >  4.25\n",
      "|   |   |   |   |   |   |   |--- value: [0.92]\n",
      "\n"
     ]
    }
   ],
   "source": [
    "print(export_text(d_tree, feature_names=list(x.columns)))"
   ]
  },
  {
   "cell_type": "markdown",
   "id": "176743a6",
   "metadata": {},
   "source": [
    "We can see that one of our leaves has only one observation. To verify if this contributed to the low score, we will prevent this from happening by tuning the parameter. Before we do that, let's look at how the features contributed to the result"
   ]
  },
  {
   "cell_type": "markdown",
   "id": "75df841e",
   "metadata": {},
   "source": [
    "## Visualizing feature importance\n",
    "We will create a plot that shows each feature impact/importance in the model before we work on our parameters to try to optimize the result from our model"
   ]
  },
  {
   "cell_type": "code",
   "execution_count": 21,
   "id": "36af55ca",
   "metadata": {
    "scrolled": false
   },
   "outputs": [
    {
     "data": {
      "text/plain": [
       "<BarContainer object of 14 artists>"
      ]
     },
     "execution_count": 21,
     "metadata": {},
     "output_type": "execute_result"
    },
    {
     "data": {
      "image/png": "[encoded data removed]",
      "text/plain": [
       "<Figure size 1000x1000 with 1 Axes>"
      ]
     },
     "metadata": {},
     "output_type": "display_data"
    }
   ],
   "source": [
    "plt.figure(figsize=(10,10))\n",
    "plt.barh(d_tree.feature_names_in_, d_tree.feature_importances_)"
   ]
  },
  {
   "cell_type": "markdown",
   "id": "32f03c19",
   "metadata": {},
   "source": [
    "The result shows that the feature that has the most impact on the result is targeted_productivity followed by number of workers. A few more features had smaller impacts on the outcome while 4 others showed no impact. Since the inclusion of the other columns does not affect the computational time of running our model, we will not exclude them from the features. Also, other models will be created and applied to the data, it is possible that they will utilize the features to improve the results"
   ]
  },
  {
   "cell_type": "markdown",
   "id": "c005bd8c",
   "metadata": {},
   "source": [
    "## Adding more parameters\n",
    "The tree structure showed a leaf with one sample and a high value. Let's control this output and see if it helps improve the score of our model"
   ]
  },
  {
   "cell_type": "code",
   "execution_count": 22,
   "id": "ee31db2c",
   "metadata": {},
   "outputs": [
    {
     "name": "stdout",
     "output_type": "stream",
     "text": [
      "0.2916960748880211\n"
     ]
    },
    {
     "data": {
      "text/plain": [
       "0.2839015657874854"
      ]
     },
     "execution_count": 22,
     "metadata": {},
     "output_type": "execute_result"
    }
   ],
   "source": [
    "d_tree = DecisionTreeRegressor(criterion='absolute_error', min_samples_leaf= 2, min_samples_split= 4, max_depth=5, random_state=75)\n",
    "d_tree.fit(x_train, y_train)\n",
    "score = d_tree.score(x_test, y_test)\n",
    "print(d_tree.score(x_train, y_train))\n",
    "score"
   ]
  },
  {
   "cell_type": "markdown",
   "id": "e67f4852",
   "metadata": {},
   "source": [
    "The parameter tuning stabilized the difference between the training and test result. However, it failed to add any significant improvement to the general results of the model"
   ]
  },
  {
   "cell_type": "markdown",
   "id": "254970c9",
   "metadata": {},
   "source": [
    "## Introducing random forest\n",
    "Since the decision tree and optimizations made did not produce a satisfactory result, let's take advantage of majority votes from random forest subtrees to help improve the results of the model. We will experiment with different parameters and only include the one with the best result in the model below"
   ]
  },
  {
   "cell_type": "code",
   "execution_count": 23,
   "id": "1af35ff2",
   "metadata": {
    "scrolled": true
   },
   "outputs": [
    {
     "name": "stdout",
     "output_type": "stream",
     "text": [
      "0.6521406160142637\n"
     ]
    },
    {
     "data": {
      "text/plain": [
       "0.4631390915163852"
      ]
     },
     "execution_count": 23,
     "metadata": {},
     "output_type": "execute_result"
    }
   ],
   "source": [
    "from sklearn.ensemble import RandomForestRegressor\n",
    "random = RandomForestRegressor(criterion= 'squared_error', n_estimators=5, max_depth=7, random_state=75, n_jobs=-1)\n",
    "random.fit(x_train, y_train)\n",
    "te_pred = random.predict(x_test)\n",
    "tr_score = random.score(x_train, y_train)\n",
    "te_score = random.score(x_test, y_test)\n",
    "print(tr_score)\n",
    "te_score"
   ]
  },
  {
   "cell_type": "markdown",
   "id": "03e2d23c",
   "metadata": {},
   "source": [
    "The result of the random forest produced a significant improvement in the Rsquare. The difference between the test and training data is not huge, suggesting that our model can generalize well to unseen data at a close level. This is a big achievement from the score produced by previous models."
   ]
  },
  {
   "cell_type": "markdown",
   "id": "4a42747f",
   "metadata": {},
   "source": [
    "## Displaying the predictions\n",
    "Let's put the predictions and actual results side by side for comparison. Seeing the two results give us a sense of the true capability of our model. We will return 20 random rows for comparison"
   ]
  },
  {
   "cell_type": "code",
   "execution_count": 24,
   "id": "47eda486",
   "metadata": {
    "scrolled": false
   },
   "outputs": [
    {
     "name": "stdout",
     "output_type": "stream",
     "text": [
      "0.1130830473542133\n"
     ]
    },
    {
     "data": {
      "text/html": [
       "<div>\n",
       "<style scoped>\n",
       "    .dataframe tbody tr th:only-of-type {\n",
       "        vertical-align: middle;\n",
       "    }\n",
       "\n",
       "    .dataframe tbody tr th {\n",
       "        vertical-align: top;\n",
       "    }\n",
       "\n",
       "    .dataframe thead th {\n",
       "        text-align: right;\n",
       "    }\n",
       "</style>\n",
       "<table border=\"1\" class=\"dataframe\">\n",
       "  <thead>\n",
       "    <tr style=\"text-align: right;\">\n",
       "      <th></th>\n",
       "      <th>pred</th>\n",
       "      <th>actual</th>\n",
       "    </tr>\n",
       "  </thead>\n",
       "  <tbody>\n",
       "    <tr>\n",
       "      <th>669</th>\n",
       "      <td>0.820637</td>\n",
       "      <td>0.81</td>\n",
       "    </tr>\n",
       "    <tr>\n",
       "      <th>131</th>\n",
       "      <td>1.095246</td>\n",
       "      <td>1.06</td>\n",
       "    </tr>\n",
       "    <tr>\n",
       "      <th>968</th>\n",
       "      <td>1.004313</td>\n",
       "      <td>1.00</td>\n",
       "    </tr>\n",
       "    <tr>\n",
       "      <th>958</th>\n",
       "      <td>0.950000</td>\n",
       "      <td>1.29</td>\n",
       "    </tr>\n",
       "    <tr>\n",
       "      <th>450</th>\n",
       "      <td>1.008218</td>\n",
       "      <td>1.00</td>\n",
       "    </tr>\n",
       "    <tr>\n",
       "      <th>689</th>\n",
       "      <td>0.960900</td>\n",
       "      <td>1.00</td>\n",
       "    </tr>\n",
       "    <tr>\n",
       "      <th>646</th>\n",
       "      <td>0.946513</td>\n",
       "      <td>0.96</td>\n",
       "    </tr>\n",
       "    <tr>\n",
       "      <th>864</th>\n",
       "      <td>1.114761</td>\n",
       "      <td>1.74</td>\n",
       "    </tr>\n",
       "    <tr>\n",
       "      <th>300</th>\n",
       "      <td>1.176572</td>\n",
       "      <td>1.29</td>\n",
       "    </tr>\n",
       "    <tr>\n",
       "      <th>16</th>\n",
       "      <td>0.871050</td>\n",
       "      <td>0.68</td>\n",
       "    </tr>\n",
       "    <tr>\n",
       "      <th>647</th>\n",
       "      <td>1.000924</td>\n",
       "      <td>1.00</td>\n",
       "    </tr>\n",
       "    <tr>\n",
       "      <th>907</th>\n",
       "      <td>1.011642</td>\n",
       "      <td>1.00</td>\n",
       "    </tr>\n",
       "    <tr>\n",
       "      <th>828</th>\n",
       "      <td>0.877348</td>\n",
       "      <td>1.00</td>\n",
       "    </tr>\n",
       "    <tr>\n",
       "      <th>502</th>\n",
       "      <td>1.120958</td>\n",
       "      <td>1.13</td>\n",
       "    </tr>\n",
       "    <tr>\n",
       "      <th>65</th>\n",
       "      <td>1.086539</td>\n",
       "      <td>1.06</td>\n",
       "    </tr>\n",
       "    <tr>\n",
       "      <th>611</th>\n",
       "      <td>0.779215</td>\n",
       "      <td>1.00</td>\n",
       "    </tr>\n",
       "    <tr>\n",
       "      <th>1162</th>\n",
       "      <td>1.000924</td>\n",
       "      <td>1.00</td>\n",
       "    </tr>\n",
       "    <tr>\n",
       "      <th>86</th>\n",
       "      <td>1.050717</td>\n",
       "      <td>1.11</td>\n",
       "    </tr>\n",
       "    <tr>\n",
       "      <th>1181</th>\n",
       "      <td>1.024728</td>\n",
       "      <td>0.98</td>\n",
       "    </tr>\n",
       "    <tr>\n",
       "      <th>627</th>\n",
       "      <td>1.000924</td>\n",
       "      <td>1.00</td>\n",
       "    </tr>\n",
       "  </tbody>\n",
       "</table>\n",
       "</div>"
      ],
      "text/plain": [
       "          pred  actual\n",
       "669   0.820637    0.81\n",
       "131   1.095246    1.06\n",
       "968   1.004313    1.00\n",
       "958   0.950000    1.29\n",
       "450   1.008218    1.00\n",
       "689   0.960900    1.00\n",
       "646   0.946513    0.96\n",
       "864   1.114761    1.74\n",
       "300   1.176572    1.29\n",
       "16    0.871050    0.68\n",
       "647   1.000924    1.00\n",
       "907   1.011642    1.00\n",
       "828   0.877348    1.00\n",
       "502   1.120958    1.13\n",
       "65    1.086539    1.06\n",
       "611   0.779215    1.00\n",
       "1162  1.000924    1.00\n",
       "86    1.050717    1.11\n",
       "1181  1.024728    0.98\n",
       "627   1.000924    1.00"
      ]
     },
     "execution_count": 24,
     "metadata": {},
     "output_type": "execute_result"
    }
   ],
   "source": [
    "print(mean_absolute_error(te_pred, y_test))\n",
    "pd.DataFrame({'pred': te_pred, 'actual': y_test}).sample(20)\n"
   ]
  },
  {
   "cell_type": "markdown",
   "id": "aafb2e03",
   "metadata": {},
   "source": [
    "The result shows close predictions overall. However, some predictions deviate significantly from the actual charges. This tells us that despite the promising results displayed, our model can make predictions far from the actual case"
   ]
  },
  {
   "cell_type": "markdown",
   "id": "cd4834dc",
   "metadata": {},
   "source": [
    "## Testing results on unused data\n",
    "Let's introduce the oob_score to test the result on data that were not used in the random forest training process. This will allow us use all the dataset as a potential candidate in the training process with the observations not featured in the training stage used as the test data"
   ]
  },
  {
   "cell_type": "code",
   "execution_count": 25,
   "id": "afd0125a",
   "metadata": {
    "scrolled": false
   },
   "outputs": [
    {
     "name": "stdout",
     "output_type": "stream",
     "text": [
      "0.33287486090560503\n"
     ]
    },
    {
     "data": {
      "text/html": [
       "<div>\n",
       "<style scoped>\n",
       "    .dataframe tbody tr th:only-of-type {\n",
       "        vertical-align: middle;\n",
       "    }\n",
       "\n",
       "    .dataframe tbody tr th {\n",
       "        vertical-align: top;\n",
       "    }\n",
       "\n",
       "    .dataframe thead th {\n",
       "        text-align: right;\n",
       "    }\n",
       "</style>\n",
       "<table border=\"1\" class=\"dataframe\">\n",
       "  <thead>\n",
       "    <tr style=\"text-align: right;\">\n",
       "      <th></th>\n",
       "      <th>pred</th>\n",
       "      <th>actual</th>\n",
       "    </tr>\n",
       "  </thead>\n",
       "  <tbody>\n",
       "    <tr>\n",
       "      <th>389</th>\n",
       "      <td>1.002016</td>\n",
       "      <td>1.00</td>\n",
       "    </tr>\n",
       "    <tr>\n",
       "      <th>248</th>\n",
       "      <td>0.999730</td>\n",
       "      <td>1.00</td>\n",
       "    </tr>\n",
       "    <tr>\n",
       "      <th>1164</th>\n",
       "      <td>0.968937</td>\n",
       "      <td>1.06</td>\n",
       "    </tr>\n",
       "    <tr>\n",
       "      <th>1123</th>\n",
       "      <td>0.840596</td>\n",
       "      <td>1.00</td>\n",
       "    </tr>\n",
       "    <tr>\n",
       "      <th>247</th>\n",
       "      <td>1.051223</td>\n",
       "      <td>1.03</td>\n",
       "    </tr>\n",
       "    <tr>\n",
       "      <th>964</th>\n",
       "      <td>1.114501</td>\n",
       "      <td>1.15</td>\n",
       "    </tr>\n",
       "    <tr>\n",
       "      <th>759</th>\n",
       "      <td>0.796018</td>\n",
       "      <td>1.00</td>\n",
       "    </tr>\n",
       "    <tr>\n",
       "      <th>383</th>\n",
       "      <td>0.910054</td>\n",
       "      <td>0.93</td>\n",
       "    </tr>\n",
       "    <tr>\n",
       "      <th>683</th>\n",
       "      <td>0.994740</td>\n",
       "      <td>1.13</td>\n",
       "    </tr>\n",
       "    <tr>\n",
       "      <th>754</th>\n",
       "      <td>1.037104</td>\n",
       "      <td>1.00</td>\n",
       "    </tr>\n",
       "    <tr>\n",
       "      <th>661</th>\n",
       "      <td>1.055120</td>\n",
       "      <td>1.11</td>\n",
       "    </tr>\n",
       "    <tr>\n",
       "      <th>217</th>\n",
       "      <td>1.099880</td>\n",
       "      <td>1.19</td>\n",
       "    </tr>\n",
       "    <tr>\n",
       "      <th>793</th>\n",
       "      <td>0.825900</td>\n",
       "      <td>1.00</td>\n",
       "    </tr>\n",
       "    <tr>\n",
       "      <th>482</th>\n",
       "      <td>1.017931</td>\n",
       "      <td>1.06</td>\n",
       "    </tr>\n",
       "    <tr>\n",
       "      <th>1153</th>\n",
       "      <td>1.062359</td>\n",
       "      <td>1.12</td>\n",
       "    </tr>\n",
       "    <tr>\n",
       "      <th>362</th>\n",
       "      <td>1.042443</td>\n",
       "      <td>1.07</td>\n",
       "    </tr>\n",
       "    <tr>\n",
       "      <th>344</th>\n",
       "      <td>1.033372</td>\n",
       "      <td>1.07</td>\n",
       "    </tr>\n",
       "    <tr>\n",
       "      <th>1169</th>\n",
       "      <td>0.997457</td>\n",
       "      <td>1.05</td>\n",
       "    </tr>\n",
       "    <tr>\n",
       "      <th>1061</th>\n",
       "      <td>0.998225</td>\n",
       "      <td>1.00</td>\n",
       "    </tr>\n",
       "    <tr>\n",
       "      <th>604</th>\n",
       "      <td>0.953261</td>\n",
       "      <td>1.31</td>\n",
       "    </tr>\n",
       "  </tbody>\n",
       "</table>\n",
       "</div>"
      ],
      "text/plain": [
       "          pred  actual\n",
       "389   1.002016    1.00\n",
       "248   0.999730    1.00\n",
       "1164  0.968937    1.06\n",
       "1123  0.840596    1.00\n",
       "247   1.051223    1.03\n",
       "964   1.114501    1.15\n",
       "759   0.796018    1.00\n",
       "383   0.910054    0.93\n",
       "683   0.994740    1.13\n",
       "754   1.037104    1.00\n",
       "661   1.055120    1.11\n",
       "217   1.099880    1.19\n",
       "793   0.825900    1.00\n",
       "482   1.017931    1.06\n",
       "1153  1.062359    1.12\n",
       "362   1.042443    1.07\n",
       "344   1.033372    1.07\n",
       "1169  0.997457    1.05\n",
       "1061  0.998225    1.00\n",
       "604   0.953261    1.31"
      ]
     },
     "execution_count": 25,
     "metadata": {},
     "output_type": "execute_result"
    }
   ],
   "source": [
    "oob_random = RandomForestRegressor(n_estimators=50, max_depth=10, oob_score=True, random_state=24, n_jobs=-1)\n",
    "oob_random.fit(x, y)\n",
    "oob_pred = oob_random.oob_prediction_\n",
    "oob_score = oob_random.oob_score_\n",
    "print(oob_score)\n",
    "pd.DataFrame({'pred': oob_pred, 'actual': y}).sample(20)\n",
    "#print(mean_absolute_error(oob_pred, y))"
   ]
  },
  {
   "cell_type": "markdown",
   "id": "1d512d07",
   "metadata": {},
   "source": [
    "Even though the table shows results that are close to the prediction capability of the previous model, the new model had a poorer metric result. Next, we will convert our outcome column to classes to apply classification models on it"
   ]
  },
  {
   "cell_type": "markdown",
   "id": "fb458f78",
   "metadata": {},
   "source": [
    "## Masking the outcome column\n",
    "After creating and optimizing a linear outcome of our data with decision tree methods we will now explore the classification aspect of the model. In other to create a decision tree that shows the classes by name on the leaves, we will create an outcome column with objects/strings as its properties as opposed to the regular numeric column accepted in sci-kit learn. The pandas mask function will help us bypass the challenge of not being able to use a string as an outcome column. The target achieved column which will be used as the outcome column will contain two classes, yes - meaning that the target was achieved and no - the target was not achieved"
   ]
  },
  {
   "cell_type": "code",
   "execution_count": 26,
   "id": "60555703",
   "metadata": {
    "scrolled": false
   },
   "outputs": [],
   "source": [
    "#garment.loc[garment['productivity_score'] >= 1, 'target_achieve'] = 1\n",
    "#garment.loc[garment['productivity_score'] < 1, 'target_achieve'] = 0\n",
    "garment['target_achieved'] = ''\n",
    "garment['target_achieved'].mask(garment['productivity_score'] >= 1, 'yes', inplace=True)\n",
    "garment['target_achieved'].mask(garment['productivity_score'] < 1, 'no', inplace=True)"
   ]
  },
  {
   "cell_type": "markdown",
   "id": "b84a907a",
   "metadata": {},
   "source": [
    "## Creating training and test data\n",
    "Now that the masked column has been created, its time to change the outcome to the new one created. The dataset will be splitted with a test data of 20% of the entire dataset"
   ]
  },
  {
   "cell_type": "code",
   "execution_count": 27,
   "id": "aca713bc",
   "metadata": {},
   "outputs": [],
   "source": [
    "x = garment.drop(['productivity_score', 'target_achieved'], axis=1)\n",
    "y = garment['target_achieved']\n",
    "x_train, x_test, y_train, y_test = train_test_split(x, y, test_size=.20, random_state=99)"
   ]
  },
  {
   "cell_type": "markdown",
   "id": "9f2b38b1",
   "metadata": {},
   "source": [
    "## Creating first decision tree classifier model\n",
    "Just as we did for the regression version of the model, let's start by building a simple model with a controlled max depth. The max depth parameter will not go above 3. This will allow us have a first view of how a simple model will perform"
   ]
  },
  {
   "cell_type": "code",
   "execution_count": 28,
   "id": "87f36a46",
   "metadata": {},
   "outputs": [
    {
     "name": "stdout",
     "output_type": "stream",
     "text": [
      "0.8401253918495298\n"
     ]
    },
    {
     "data": {
      "text/plain": [
       "0.7875"
      ]
     },
     "execution_count": 28,
     "metadata": {},
     "output_type": "execute_result"
    }
   ],
   "source": [
    "from sklearn.tree import DecisionTreeClassifier, plot_tree\n",
    "c_tree = DecisionTreeClassifier(criterion='gini', max_depth=3, random_state=72)\n",
    "c_tree.fit(x_train, y_train)\n",
    "ctr_score = c_tree.score(x_train, y_train)\n",
    "cte_score = c_tree.score(x_test, y_test)\n",
    "print(ctr_score)\n",
    "cte_score"
   ]
  },
  {
   "cell_type": "markdown",
   "id": "c86d50fa",
   "metadata": {},
   "source": [
    "Our first model did not perform badly. We can now iterate on the results by building optimized versions to improve the result."
   ]
  },
  {
   "cell_type": "markdown",
   "id": "dd0fdf68",
   "metadata": {},
   "source": [
    "## Displaying classification result\n",
    "Before we start building an optimized version, let's see how it performed against different metrics."
   ]
  },
  {
   "cell_type": "code",
   "execution_count": 29,
   "id": "b8590c57",
   "metadata": {
    "scrolled": true
   },
   "outputs": [
    {
     "name": "stdout",
     "output_type": "stream",
     "text": [
      "              precision    recall  f1-score   support\n",
      "\n",
      "          no       0.42      0.57      0.48        42\n",
      "         yes       0.90      0.83      0.87       198\n",
      "\n",
      "    accuracy                           0.79       240\n",
      "   macro avg       0.66      0.70      0.68       240\n",
      "weighted avg       0.82      0.79      0.80       240\n",
      "\n"
     ]
    }
   ],
   "source": [
    "print(classification_report(c_tree.predict(x_test), y_test))"
   ]
  },
  {
   "cell_type": "markdown",
   "id": "a8733a10",
   "metadata": {},
   "source": [
    "The result shows that the model is able to predict the positive class at a very high level of accuracy. However, the positive cases were poorly predicted"
   ]
  },
  {
   "cell_type": "code",
   "execution_count": 30,
   "id": "94b40ae4",
   "metadata": {
    "scrolled": false
   },
   "outputs": [],
   "source": [
    "#print(export_text(c_tree, feature_names=list(x.columns)))"
   ]
  },
  {
   "cell_type": "markdown",
   "id": "973a5f24",
   "metadata": {},
   "source": [
    "## Visualizing the decision tree structure\n",
    "Luckily, our max depth is small enough to create visuals to view how the model arrives at its predicitions. Let's create a plot that shows this"
   ]
  },
  {
   "cell_type": "code",
   "execution_count": 31,
   "id": "de4caf8b",
   "metadata": {
    "scrolled": false
   },
   "outputs": [
    {
     "data": {
      "image/png": "[encoded data removed]",
      "text/plain": [
       "<Figure size 2400x1000 with 1 Axes>"
      ]
     },
     "metadata": {},
     "output_type": "display_data"
    }
   ],
   "source": [
    "plt.figure(figsize=(24,10))\n",
    "_ = plot_tree(c_tree, feature_names=x.columns, class_names= c_tree.classes_, filled=True, proportion=True, precision=0, rounded=True, fontsize=11)\n",
    "plt.show()"
   ]
  },
  {
   "cell_type": "markdown",
   "id": "5b58b3e9",
   "metadata": {},
   "source": [
    "## Fine tuning the model's parameters\n",
    "The different parameters will be experimented with to arrive at an opotimal result. This parameters include random state, criterion, max depth etc."
   ]
  },
  {
   "cell_type": "code",
   "execution_count": 32,
   "id": "9f8d859d",
   "metadata": {},
   "outputs": [
    {
     "name": "stdout",
     "output_type": "stream",
     "text": [
      "0.9174503657262278\n"
     ]
    },
    {
     "data": {
      "text/plain": [
       "0.8208333333333333"
      ]
     },
     "execution_count": 32,
     "metadata": {},
     "output_type": "execute_result"
    }
   ],
   "source": [
    "c_tree = DecisionTreeClassifier(criterion='gini', max_depth=8, random_state=13)\n",
    "c_tree.fit(x_train, y_train)\n",
    "ctr_score = c_tree.score(x_train, y_train)\n",
    "cte_score = c_tree.score(x_test, y_test)\n",
    "print(ctr_score)\n",
    "cte_score"
   ]
  },
  {
   "cell_type": "markdown",
   "id": "3a132468",
   "metadata": {},
   "source": [
    "We got a much improved result from the previous model by increasing the max depth and changing random state. While the increase max depth makes it diffult to interprete the results of the model, it makes up for it in increasing predictions accuracy."
   ]
  },
  {
   "cell_type": "markdown",
   "id": "3f5ffc1f",
   "metadata": {},
   "source": [
    "## Displaying classification report\n",
    "Let's examing the other metrics result on the classes"
   ]
  },
  {
   "cell_type": "code",
   "execution_count": 33,
   "id": "bfc2af07",
   "metadata": {
    "scrolled": false
   },
   "outputs": [
    {
     "name": "stdout",
     "output_type": "stream",
     "text": [
      "              precision    recall  f1-score   support\n",
      "\n",
      "          no       0.54      0.65      0.59        48\n",
      "         yes       0.91      0.86      0.89       192\n",
      "\n",
      "    accuracy                           0.82       240\n",
      "   macro avg       0.73      0.76      0.74       240\n",
      "weighted avg       0.83      0.82      0.83       240\n",
      "\n",
      "[[ 31  17]\n",
      " [ 26 166]]\n"
     ]
    }
   ],
   "source": [
    "print(classification_report(c_tree.predict(x_test), y_test))\n",
    "print(confusion_matrix(c_tree.predict(x_test), y_test))"
   ]
  },
  {
   "cell_type": "markdown",
   "id": "8c6092a5",
   "metadata": {},
   "source": [
    "The performance on the other metrics increased, particularly on the negative class. The precision accuracy is now above 50 percent which marks a good improvement"
   ]
  },
  {
   "cell_type": "markdown",
   "id": "0e848bee",
   "metadata": {},
   "source": [
    "## Probing the negative precision result\n",
    "The negative precision result is significantly lower than the positive case which means that the model is poor at predicting negative cases. We will investigate if the cause of the wrongly predicted negative cases were because the values were barely positive."
   ]
  },
  {
   "cell_type": "code",
   "execution_count": 34,
   "id": "abe80e65",
   "metadata": {
    "scrolled": false
   },
   "outputs": [
    {
     "data": {
      "text/plain": [
       "(0.998, 1.061]    8\n",
       "(1.122, 1.183]    3\n",
       "(1.183, 1.244]    2\n",
       "(1.244, 1.305]    1\n",
       "(1.305, 1.366]    1\n",
       "(1.488, 1.549]    1\n",
       "(1.549, 1.61]     1\n",
       "(1.061, 1.122]    0\n",
       "(1.366, 1.427]    0\n",
       "(1.427, 1.488]    0\n",
       "Name: score, dtype: int64"
      ]
     },
     "execution_count": 34,
     "metadata": {},
     "output_type": "execute_result"
    }
   ],
   "source": [
    "a_train, a_test, b_train, b_test = train_test_split(garment['productivity_score'], garment['target_achieved'], test_size=.20, random_state=99)\n",
    "data_test = pd.DataFrame({'score': a_test, 'y_test': y_test, 'pred': c_tree.predict(x_test)})\n",
    "data_test[(data_test['pred'] == 'no') & (data_test['y_test'] == 'yes')]['score'].value_counts(bins=10)"
   ]
  },
  {
   "cell_type": "markdown",
   "id": "d2e7a6c4",
   "metadata": {},
   "source": [
    "The result shows that majority of the misclassification are on outcomes that barely achieved the targets. One reason for this is likely because there are a lot of outcomes that a very close to the positive cases. This may have caused features with similar records to be misclassified"
   ]
  },
  {
   "cell_type": "markdown",
   "id": "fbab1fd1",
   "metadata": {},
   "source": [
    "## Applying random forest classifier\n",
    "We will see if relying on the predictions of multiple subtrees can help correct the deficit in the negative classes predictions."
   ]
  },
  {
   "cell_type": "code",
   "execution_count": 35,
   "id": "a2519bcd",
   "metadata": {},
   "outputs": [
    {
     "data": {
      "text/plain": [
       "0.8375"
      ]
     },
     "execution_count": 35,
     "metadata": {},
     "output_type": "execute_result"
    }
   ],
   "source": [
    "from sklearn.ensemble import RandomForestClassifier, ExtraTreesClassifier, VotingClassifier\n",
    "r_model = RandomForestClassifier(n_estimators= 30, max_depth=7, random_state=11)\n",
    "r_model.fit(x_train, y_train)\n",
    "r_model.score(x_test, y_test)"
   ]
  },
  {
   "cell_type": "markdown",
   "id": "8245cbdd",
   "metadata": {},
   "source": [
    "The result is not looking promising as it produced a lower prediction score."
   ]
  },
  {
   "cell_type": "markdown",
   "id": "aa54ad5d",
   "metadata": {},
   "source": [
    "## Displaying classification report\n",
    "Let's see how the performance compares to others"
   ]
  },
  {
   "cell_type": "code",
   "execution_count": 36,
   "id": "b7ac10d9",
   "metadata": {
    "scrolled": true
   },
   "outputs": [
    {
     "name": "stdout",
     "output_type": "stream",
     "text": [
      "              precision    recall  f1-score   support\n",
      "\n",
      "          no       0.54      0.70      0.61        44\n",
      "         yes       0.93      0.87      0.90       196\n",
      "\n",
      "    accuracy                           0.84       240\n",
      "   macro avg       0.74      0.79      0.76       240\n",
      "weighted avg       0.86      0.84      0.85       240\n",
      "\n",
      "[[ 31  13]\n",
      " [ 26 170]]\n"
     ]
    }
   ],
   "source": [
    "print(classification_report(r_model.predict(x_test), y_test))\n",
    "print(confusion_matrix(r_model.predict(x_test), y_test))"
   ]
  },
  {
   "cell_type": "markdown",
   "id": "60c47605",
   "metadata": {},
   "source": [
    "Despite the poorer accuracy of the model, there is a noticeable improvement in the prediction of the positive case but a decline in the accuracy of the negative case."
   ]
  },
  {
   "cell_type": "markdown",
   "id": "f55804a7",
   "metadata": {},
   "source": [
    "## Introducing oob_score\n",
    "We will use the whole of the dataset in the generation of the random forest scores. This will be achieved by using observations not used in the training phase of the model to test the model score"
   ]
  },
  {
   "cell_type": "code",
   "execution_count": 37,
   "id": "f77f4cad",
   "metadata": {},
   "outputs": [
    {
     "name": "stdout",
     "output_type": "stream",
     "text": [
      "0.8279030910609858\n"
     ]
    }
   ],
   "source": [
    "oob_model = RandomForestClassifier(n_estimators= 30, oob_score=True, max_depth=5, random_state=11)\n",
    "oob_model.fit(x, y)\n",
    "print(oob_model.oob_score_)\n",
    "\n",
    "oob_pred = pd.DataFrame(oob_model.oob_decision_function_)\n",
    "oob_pred['pred'] = oob_pred.idxmax(axis=1)\n",
    "oob_pred[oob_pred['pred'] == 1] = 'yes'\n",
    "oob_pred[oob_pred['pred'] == 0] = 'no'"
   ]
  },
  {
   "cell_type": "markdown",
   "id": "439c578d",
   "metadata": {},
   "source": [
    "Again a poorer result was gotten. The oob_score failed to improve our model"
   ]
  },
  {
   "cell_type": "markdown",
   "id": "0678aa7e",
   "metadata": {},
   "source": [
    "## Creating classification report"
   ]
  },
  {
   "cell_type": "code",
   "execution_count": 38,
   "id": "9ee68320",
   "metadata": {
    "scrolled": true
   },
   "outputs": [
    {
     "name": "stdout",
     "output_type": "stream",
     "text": [
      "              precision    recall  f1-score   support\n",
      "\n",
      "          no       0.45      0.78      0.57       178\n",
      "         yes       0.96      0.84      0.89      1019\n",
      "\n",
      "    accuracy                           0.83      1197\n",
      "   macro avg       0.70      0.81      0.73      1197\n",
      "weighted avg       0.88      0.83      0.84      1197\n",
      "\n"
     ]
    }
   ],
   "source": [
    "print(classification_report(oob_pred['pred'], y))"
   ]
  },
  {
   "cell_type": "markdown",
   "id": "e06b1b07",
   "metadata": {},
   "source": [
    "Again, there is an improvement in the prediction of the positive case but a decline in the negative case"
   ]
  },
  {
   "cell_type": "markdown",
   "id": "df374246",
   "metadata": {},
   "source": [
    "## Checking representation of cases\n",
    "In addition to the fact that the negative classes may have been misclassified because there are a lot of negative cases with values close to the value of the positive classes, another reason may be under representation of the negative class in the training and test data. Let's see the number of cases for each classes in our test and training data"
   ]
  },
  {
   "cell_type": "code",
   "execution_count": 39,
   "id": "afa99c33",
   "metadata": {
    "scrolled": true
   },
   "outputs": [
    {
     "name": "stdout",
     "output_type": "stream",
     "text": [
      "yes    710\n",
      "no     247\n",
      "Name: target_achieved, dtype: int64\n"
     ]
    },
    {
     "data": {
      "text/plain": [
       "yes    183\n",
       "no      57\n",
       "Name: target_achieved, dtype: int64"
      ]
     },
     "execution_count": 39,
     "metadata": {},
     "output_type": "execute_result"
    }
   ],
   "source": [
    "print(y_train.value_counts())\n",
    "y_test.value_counts()"
   ]
  },
  {
   "cell_type": "markdown",
   "id": "006743a4",
   "metadata": {},
   "source": [
    "We can confirm that there is an imbalance in the number of representation of each classes in the data"
   ]
  },
  {
   "cell_type": "markdown",
   "id": "cad13d21",
   "metadata": {},
   "source": [
    "## Introducing extra random trees\n",
    "Unlike the random forest where the default bootstrapping parameter is false preventing the model from using the entire observations to create the subtrees, the extra tree will use all of the observations in our data and select a threshold at random"
   ]
  },
  {
   "cell_type": "code",
   "execution_count": 40,
   "id": "50bad6e2",
   "metadata": {},
   "outputs": [
    {
     "data": {
      "text/plain": [
       "0.8083333333333333"
      ]
     },
     "execution_count": 40,
     "metadata": {},
     "output_type": "execute_result"
    }
   ],
   "source": [
    "ext_model = ExtraTreesClassifier(n_estimators=30, max_depth=5, random_state=11)\n",
    "ext_model.fit(x_train, y_train)\n",
    "ext_model.score(x_test, y_test)"
   ]
  },
  {
   "cell_type": "markdown",
   "id": "231c7541",
   "metadata": {},
   "source": [
    "Yet, again we have gotten a poorer result but let's see what the classification report says"
   ]
  },
  {
   "cell_type": "markdown",
   "id": "f0bed3c7",
   "metadata": {},
   "source": [
    "## Displaying classification report"
   ]
  },
  {
   "cell_type": "code",
   "execution_count": 41,
   "id": "1cc8d985",
   "metadata": {
    "scrolled": true
   },
   "outputs": [
    {
     "name": "stdout",
     "output_type": "stream",
     "text": [
      "              precision    recall  f1-score   support\n",
      "\n",
      "          no       0.26      0.79      0.39        19\n",
      "         yes       0.98      0.81      0.89       221\n",
      "\n",
      "    accuracy                           0.81       240\n",
      "   macro avg       0.62      0.80      0.64       240\n",
      "weighted avg       0.92      0.81      0.85       240\n",
      "\n"
     ]
    }
   ],
   "source": [
    "print(classification_report(ext_model.predict(x_test), y_test))"
   ]
  },
  {
   "cell_type": "markdown",
   "id": "dd68742f",
   "metadata": {},
   "source": [
    "At this point, there seem to be a clear pattern. Our optimization have produced results that improve the performance on the positive cases in each iteration while reducing that of the negative cases"
   ]
  },
  {
   "cell_type": "markdown",
   "id": "0baff5d6",
   "metadata": {},
   "source": [
    "## Applying minimal cost complexity pruning\n",
    "This is a technique that uses optimal alphas to penalize an unpruned decision tree thereby reducing the leaves' impurity and error"
   ]
  },
  {
   "cell_type": "code",
   "execution_count": 42,
   "id": "58408839",
   "metadata": {},
   "outputs": [
    {
     "data": {
      "text/plain": [
       "0.85"
      ]
     },
     "execution_count": 42,
     "metadata": {},
     "output_type": "execute_result"
    }
   ],
   "source": [
    "unpruned = DecisionTreeClassifier(random_state=9)\n",
    "cost_pruned = unpruned.cost_complexity_pruning_path(x_train, y_train)\n",
    "cost_alpha = cost_pruned.ccp_alphas\n",
    "len(cost_alpha)\n",
    "\n",
    "alpha_results = []\n",
    "\n",
    "for alpha in cost_alpha:\n",
    "    subtree = DecisionTreeClassifier(random_state=9, ccp_alpha=alpha)\n",
    "    subtree.fit(x_train, y_train)\n",
    "    scores = subtree.score(x_test, y_test)\n",
    "    alpha_results.append(scores)\n",
    "    \n",
    "alpha_scores = tuple(zip(cost_alpha, alpha_results))\n",
    "max_alpha = max(alpha_scores, key=lambda x: x[1])[0]\n",
    "\n",
    "cost_pruned = DecisionTreeClassifier(random_state=9, ccp_alpha=max_alpha)\n",
    "cost_pruned.fit(x_train, y_train)\n",
    "cost_pruned.score(x_test, y_test)"
   ]
  },
  {
   "cell_type": "markdown",
   "id": "d118209a",
   "metadata": {},
   "source": [
    "The pruned model produced an impressive result with an accuracy score better than previous models. Let's look at its classification report"
   ]
  },
  {
   "cell_type": "markdown",
   "id": "41489a3e",
   "metadata": {},
   "source": [
    "## Displaying classification report"
   ]
  },
  {
   "cell_type": "code",
   "execution_count": 43,
   "id": "c336fc79",
   "metadata": {
    "scrolled": false
   },
   "outputs": [
    {
     "name": "stdout",
     "output_type": "stream",
     "text": [
      "              precision    recall  f1-score   support\n",
      "\n",
      "          no       0.63      0.71      0.67        51\n",
      "         yes       0.92      0.89      0.90       189\n",
      "\n",
      "    accuracy                           0.85       240\n",
      "   macro avg       0.77      0.80      0.78       240\n",
      "weighted avg       0.86      0.85      0.85       240\n",
      "\n"
     ]
    }
   ],
   "source": [
    "print(classification_report(cost_pruned.predict(x_test), y_test))"
   ]
  },
  {
   "cell_type": "markdown",
   "id": "d3ea7501",
   "metadata": {},
   "source": [
    "The model has produced the best performance in predicting negative cases so far. However, this comes at a cost of reduction in performance on the positive class"
   ]
  },
  {
   "cell_type": "markdown",
   "id": "e7ed6ca3",
   "metadata": {},
   "source": [
    "## Creating a vote\n",
    "Finally, we will bring all the classification models together to create predictions based on the highest class predictions from the models."
   ]
  },
  {
   "cell_type": "code",
   "execution_count": 44,
   "id": "d5455c35",
   "metadata": {},
   "outputs": [
    {
     "data": {
      "text/plain": [
       "0.8375"
      ]
     },
     "execution_count": 44,
     "metadata": {},
     "output_type": "execute_result"
    }
   ],
   "source": [
    "votings = VotingClassifier(estimators=[('decision', c_tree), ('random', r_model), ('cost', cost_pruned)], voting='soft')\n",
    "votings.fit(x_train, y_train)\n",
    "votings.score(x_test, y_test)"
   ]
  },
  {
   "cell_type": "markdown",
   "id": "d28254d3",
   "metadata": {},
   "source": [
    "Unfortunately, the voting method from the models failed to reach the performance of the minimal cost complexity pruning."
   ]
  },
  {
   "cell_type": "markdown",
   "id": "2adec995",
   "metadata": {},
   "source": [
    "## Displaying classification report"
   ]
  },
  {
   "cell_type": "code",
   "execution_count": 45,
   "id": "a86d05b6",
   "metadata": {},
   "outputs": [
    {
     "name": "stdout",
     "output_type": "stream",
     "text": [
      "              precision    recall  f1-score   support\n",
      "\n",
      "          no       0.56      0.70      0.62        46\n",
      "         yes       0.92      0.87      0.90       194\n",
      "\n",
      "    accuracy                           0.84       240\n",
      "   macro avg       0.74      0.78      0.76       240\n",
      "weighted avg       0.85      0.84      0.84       240\n",
      "\n"
     ]
    }
   ],
   "source": [
    "print(classification_report(votings.predict(x_test), y_test))"
   ]
  }
 ],
 "metadata": {
  "kernelspec": {
   "display_name": "Python 3 (ipykernel)",
   "language": "python",
   "name": "python3"
  },
  "language_info": {
   "codemirror_mode": {
    "name": "ipython",
    "version": 3
   },
   "file_extension": ".py",
   "mimetype": "text/x-python",
   "name": "python",
   "nbconvert_exporter": "python",
   "pygments_lexer": "ipython3",
   "version": "3.10.9"
  },
  "varInspector": {
   "cols": {
    "lenName": 16,
    "lenType": 16,
    "lenVar": 40
   },
   "kernels_config": {
    "python": {
     "delete_cmd_postfix": "",
     "delete_cmd_prefix": "del ",
     "library": "var_list.py",
     "varRefreshCmd": "print(var_dic_list())"
    },
    "r": {
     "delete_cmd_postfix": ") ",
     "delete_cmd_prefix": "rm(",
     "library": "var_list.r",
     "varRefreshCmd": "cat(var_dic_list()) "
    }
   },
   "types_to_exclude": [
    "module",
    "function",
    "builtin_function_or_method",
    "instance",
    "_Feature"
   ],
   "window_display": false
  }
 },
 "nbformat": 4,
 "nbformat_minor": 5
}
